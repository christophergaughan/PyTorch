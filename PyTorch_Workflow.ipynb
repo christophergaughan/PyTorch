{
  "cells": [
    {
      "cell_type": "markdown",
      "metadata": {
        "id": "view-in-github",
        "colab_type": "text"
      },
      "source": [
        "<a href=\"https://colab.research.google.com/github/christophergaughan/PyTorch/blob/main/PyTorch_Workflow.ipynb\" target=\"_parent\"><img src=\"https://colab.research.google.com/assets/colab-badge.svg\" alt=\"Open In Colab\"/></a>"
      ]
    },
    {
      "metadata": {
        "id": "1db3cde152febf71"
      },
      "cell_type": "markdown",
      "source": [
        "# PyTorch Workflow\n",
        "\n",
        "## End-to-End Workflow\n",
        "* Ground Truth notebook - https://github.com/mrdbourke/pytorch-deep-learning/blob/main/01_pytorch_workflow.ipynb\n",
        "* Book - https://www.learnpytorch.io/\n",
        "* Discussion -  https://github.com/mrdbourke/pytorch-deep-learning/discussions (Got to Discussions button)"
      ],
      "id": "1db3cde152febf71"
    },
    {
      "cell_type": "code",
      "id": "initial_id",
      "metadata": {
        "collapsed": true,
        "ExecuteTime": {
          "end_time": "2024-12-02T23:23:11.444811Z",
          "start_time": "2024-12-02T23:23:11.442431Z"
        },
        "id": "initial_id"
      },
      "source": [
        "what_were_discussing = {1: \"data (prepare and load)\",\n",
        "                        2: \"build model\",\n",
        "                        3: \"fitting the model to the data (training)\",\n",
        "                        4: \"making predictions and evaluating model (inference\",\n",
        "                        5: \"saving and loading the model\",\n",
        "                        6: \"put it all together\"}"
      ],
      "outputs": [],
      "execution_count": 1
    },
    {
      "metadata": {
        "ExecuteTime": {
          "end_time": "2024-12-02T23:23:13.575110Z",
          "start_time": "2024-12-02T23:23:13.572154Z"
        },
        "colab": {
          "base_uri": "https://localhost:8080/"
        },
        "id": "ba035380a094b9ab",
        "outputId": "cd429604-7794-4a21-c606-eb0924568144"
      },
      "cell_type": "code",
      "source": [
        "what_were_discussing"
      ],
      "id": "ba035380a094b9ab",
      "outputs": [
        {
          "output_type": "execute_result",
          "data": {
            "text/plain": [
              "{1: 'data (prepare and load)',\n",
              " 2: 'build model',\n",
              " 3: 'fitting the model to the data (training)',\n",
              " 4: 'making predictions and evaluating model (inference',\n",
              " 5: 'saving and loading the model',\n",
              " 6: 'put it all together'}"
            ]
          },
          "metadata": {},
          "execution_count": 2
        }
      ],
      "execution_count": 2
    },
    {
      "metadata": {
        "ExecuteTime": {
          "end_time": "2024-12-02T23:23:14.911130Z",
          "start_time": "2024-12-02T23:23:14.908915Z"
        },
        "id": "821059900eeca871"
      },
      "cell_type": "code",
      "source": [
        "from IPython.display import Image, display\n"
      ],
      "id": "821059900eeca871",
      "outputs": [],
      "execution_count": 3
    },
    {
      "metadata": {
        "ExecuteTime": {
          "end_time": "2024-12-02T23:23:15.860111Z",
          "start_time": "2024-12-02T23:23:15.855847Z"
        },
        "colab": {
          "base_uri": "https://localhost:8080/",
          "height": 405
        },
        "id": "84c79a4512ece685",
        "outputId": "52f3586b-f92d-4a52-d552-e24ad65eca21"
      },
      "cell_type": "code",
      "source": [
        "image_url = \"https://encrypted-tbn0.gstatic.com/images?q=tbn:ANd9GcToOXjYFty55uujoIAle6t9G5y3dobFplq8mw&s\"\n",
        "display(Image(url=image_url, width=650))"
      ],
      "id": "84c79a4512ece685",
      "outputs": [
        {
          "output_type": "display_data",
          "data": {
            "text/html": [
              "<img src=\"https://encrypted-tbn0.gstatic.com/images?q=tbn:ANd9GcToOXjYFty55uujoIAle6t9G5y3dobFplq8mw&s\" width=\"650\"/>"
            ],
            "text/plain": [
              "<IPython.core.display.Image object>"
            ]
          },
          "metadata": {}
        }
      ],
      "execution_count": 4
    },
    {
      "metadata": {
        "ExecuteTime": {
          "end_time": "2024-12-03T00:47:32.796273Z",
          "start_time": "2024-12-03T00:47:32.790721Z"
        },
        "colab": {
          "base_uri": "https://localhost:8080/",
          "height": 35
        },
        "id": "439c193b24ca8e46",
        "outputId": "f8528226-139b-4442-ff01-d83e08c31a22"
      },
      "cell_type": "code",
      "source": [
        "import torch\n",
        "from torch import nn # nn contains all of PyTotches building blocks for neural networks\n",
        "import matplotlib.pyplot as plt\n",
        "\n",
        "torch.__version__"
      ],
      "id": "439c193b24ca8e46",
      "outputs": [
        {
          "output_type": "execute_result",
          "data": {
            "text/plain": [
              "'2.5.1+cu121'"
            ],
            "application/vnd.google.colaboratory.intrinsic+json": {
              "type": "string"
            }
          },
          "metadata": {},
          "execution_count": 5
        }
      ],
      "execution_count": 5
    },
    {
      "metadata": {
        "id": "fdf256945f924b3a"
      },
      "cell_type": "markdown",
      "source": [
        "| **Workload Level** | **Memory Usage (MB)** | **Memory Usage (GB)** | **Example Use Cases**                            |\n",
        "|---------------------|-----------------------|-----------------------|--------------------------------------------------|\n",
        "| **Low**            | < 500 MB             | < 0.5 GB             | Small datasets, fine-tuning small models (e.g., BERT-base), simple inference tasks. |\n",
        "| **Moderate**       | 500 MB – 4 GB        | 0.5 GB – 4 GB        | Medium datasets, training mid-sized models (e.g., ResNet-50, BERT-large), inference with larger models. |\n",
        "| **High**           | > 4 GB               | > 4 GB               | Large datasets, training large-scale models (e.g., GPT-3, Vision Transformers), distributed training. |\n",
        "\n",
        "Also, there as in anexcellent video concerning how Neural Netoworks actually work:\n",
        "https://www.3blue1brown.com/lessons/neural-networks"
      ],
      "id": "fdf256945f924b3a"
    },
    {
      "metadata": {
        "ExecuteTime": {
          "end_time": "2024-12-03T00:47:49.162478Z",
          "start_time": "2024-12-03T00:47:49.158206Z"
        },
        "colab": {
          "base_uri": "https://localhost:8080/"
        },
        "id": "aba70a1a0768ed9d",
        "outputId": "bbb457cf-e746-431e-dd26-84883e638211"
      },
      "cell_type": "code",
      "source": [
        "# Create known parameters\n",
        "weight = 0.7\n",
        "bias = 0.3\n",
        "\n",
        "# Data\n",
        "start = 0\n",
        "end = 1\n",
        "step = 0.02\n",
        "X = torch.arange(start, end, step).unsqueeze(dim=1)\n",
        "y = weight * X + bias\n",
        "\n",
        "X[:10], y[:10], len(X), len(y)\n"
      ],
      "id": "aba70a1a0768ed9d",
      "outputs": [
        {
          "output_type": "execute_result",
          "data": {
            "text/plain": [
              "(tensor([[0.0000],\n",
              "         [0.0200],\n",
              "         [0.0400],\n",
              "         [0.0600],\n",
              "         [0.0800],\n",
              "         [0.1000],\n",
              "         [0.1200],\n",
              "         [0.1400],\n",
              "         [0.1600],\n",
              "         [0.1800]]),\n",
              " tensor([[0.3000],\n",
              "         [0.3140],\n",
              "         [0.3280],\n",
              "         [0.3420],\n",
              "         [0.3560],\n",
              "         [0.3700],\n",
              "         [0.3840],\n",
              "         [0.3980],\n",
              "         [0.4120],\n",
              "         [0.4260]]),\n",
              " 50,\n",
              " 50)"
            ]
          },
          "metadata": {},
          "execution_count": 6
        }
      ],
      "execution_count": 6
    },
    {
      "metadata": {
        "id": "711b4fc292ad03ac"
      },
      "cell_type": "markdown",
      "source": [
        "### Splitting data into training and test sets\n"
      ],
      "id": "711b4fc292ad03ac"
    },
    {
      "metadata": {
        "ExecuteTime": {
          "end_time": "2024-12-03T00:47:50.689212Z",
          "start_time": "2024-12-03T00:47:50.685669Z"
        },
        "colab": {
          "base_uri": "https://localhost:8080/"
        },
        "id": "aee1cce12840fee6",
        "outputId": "3c19a714-709d-413f-9231-254ba5fbdc47"
      },
      "cell_type": "code",
      "source": [
        "# Create a train test split\n",
        "train_split  = int(0.8 * len(X))\n",
        "X_train, y_train = X[:train_split], y[:train_split]\n",
        "X_test, y_test = X[train_split:], y[train_split:]\n",
        "\n",
        "len(X_train), len(y_train), len(X_test), len(y_test)\n"
      ],
      "id": "aee1cce12840fee6",
      "outputs": [
        {
          "output_type": "execute_result",
          "data": {
            "text/plain": [
              "(40, 40, 10, 10)"
            ]
          },
          "metadata": {},
          "execution_count": 7
        }
      ],
      "execution_count": 7
    },
    {
      "metadata": {
        "id": "31f3a83b0e7319c3"
      },
      "cell_type": "markdown",
      "source": [
        "## Visualize Data"
      ],
      "id": "31f3a83b0e7319c3"
    },
    {
      "metadata": {
        "ExecuteTime": {
          "end_time": "2024-12-03T00:47:52.246578Z",
          "start_time": "2024-12-03T00:47:52.240648Z"
        },
        "id": "74aebbc6bc015091"
      },
      "cell_type": "code",
      "source": [
        "def plot_predictions(train_data=X_train,\n",
        "                     train_labels=y_train,\n",
        "                     test_data=X_test,\n",
        "                     test_labels=y_test,\n",
        "                     predictions=None):\n",
        "    \"\"\"\n",
        "    Plots training data, test data, and compares predictions.\n",
        "    \"\"\"\n",
        "    import matplotlib.pyplot as plt\n",
        "\n",
        "    # Fix the figure size parameter\n",
        "    plt.figure(figsize=(10, 7))\n",
        "\n",
        "    # Training data\n",
        "    if train_data is not None and train_labels is not None:\n",
        "        plt.scatter(train_data, train_labels, c='b', s=4, label='Training data')\n",
        "\n",
        "    # Testing data\n",
        "    if test_data is not None and test_labels is not None:\n",
        "        plt.scatter(test_data, test_labels, c='g', s=4, label='Testing data')\n",
        "\n",
        "    # Predictions\n",
        "    if predictions is not None:\n",
        "        plt.scatter(test_data, predictions, c='r', s=4, label='Predictions')\n",
        "\n",
        "    plt.legend(prop={'size': 14})\n",
        "    plt.xlabel(\"Data\")\n",
        "    plt.ylabel(\"Labels\")\n",
        "    plt.title(\"Predictions vs. Actual\")\n",
        "    plt.show()\n",
        "\n"
      ],
      "id": "74aebbc6bc015091",
      "outputs": [],
      "execution_count": 8
    },
    {
      "metadata": {
        "ExecuteTime": {
          "end_time": "2024-12-03T00:47:53.184627Z",
          "start_time": "2024-12-03T00:47:53.097868Z"
        },
        "colab": {
          "base_uri": "https://localhost:8080/",
          "height": 480
        },
        "id": "c3e8cebe659c7d89",
        "outputId": "858e52f1-a116-4f35-ee30-2706d16fd272"
      },
      "cell_type": "code",
      "source": [
        "plot_predictions();"
      ],
      "id": "c3e8cebe659c7d89",
      "outputs": [
        {
          "output_type": "display_data",
          "data": {
            "text/plain": [
              "<Figure size 1000x700 with 1 Axes>"
            ],
            "image/png": "[encoded data removed]"
          },
          "metadata": {}
        }
      ],
      "execution_count": 9
    },
    {
      "metadata": {
        "id": "ac93a872732cd675"
      },
      "cell_type": "markdown",
      "source": [
        "## First PyTorch Model\n",
        "\n",
        "We will make a linear regression model\n",
        "\n",
        "Almost everything in PyTorch inherits from `nn.Module`, so we are making a class that inherits it\n",
        "\n",
        "`torch.nn.parameter.Parameter(data=None, requires_grad=True)`\n",
        "\n",
        "A kind of Tensor that is to be considered a module parameter.\n",
        "\n",
        "Parameters are Tensor subclasses, that have a very special property when used with Module s - when they’re assigned as Module attributes they are automatically added to the list of its parameters, and will appear e.g. in parameters() iterator. Assigning a Tensor doesn’t have such effect. This is because one might want to cache some temporary state, like last hidden state of the RNN, in the model. If there was no such class as Parameter, these temporaries would get registered too.\n",
        "\n",
        "Parameters\n",
        "* data (Tensor) – parameter tensor.\n",
        "\n",
        "* requires_grad (bool, optional) – if the parameter requires gradient. Note that the torch.no_grad() context does NOT affect the default behavior of Parameter creation–the Parameter will still have requires_grad=True in no_grad mode. See Locally disabling gradient computation for more details. Default: True\n",
        "\n"
      ],
      "id": "ac93a872732cd675"
    },
    {
      "metadata": {
        "id": "41a7f62a59e62add"
      },
      "cell_type": "markdown",
      "source": [
        "## What our model does\n",
        "* start with the random values\n",
        "* Look at the training data and adjust the random values to better represent (or get closer to) the ideal values (the weights and the bias values we used to create thee data.\n",
        "\n",
        "### How does it do this??\n",
        "1. Gradient descent\n",
        "2. Backpropagation"
      ],
      "id": "41a7f62a59e62add"
    },
    {
      "metadata": {
        "id": "bb3e01913c5a9823"
      },
      "cell_type": "markdown",
      "source": [
        "### **Gradient Descent in Linear Regression**\n",
        "\n",
        "Gradient Descent is an optimization algorithm used to minimize the **cost function** in linear regression and other machine learning algorithms. The goal is to iteratively adjust the model's parameters to reduce the error between the predicted and actual values.\n",
        "\n",
        "---\n",
        "\n",
        "#### **Steps in Gradient Descent**\n",
        "\n",
        "1. **Initialize Parameters**:\n",
        "   Start with initial values for the model parameters \\( $\\beta_0, \\beta_1, \\ldots, \\beta_n$ \\), often set to zero or small random values.\n",
        "\n",
        "2. **Compute Predictions**:\n",
        "   Use the current parameters to predict the output ($( Y_{\\text{pred}}$)) based on the input features $(( X ))$.\n",
        "\n",
        "3. **Calculate the Cost Function**:\n",
        "   The cost function $( J(\\beta) )$ measures the error between the predicted values and the actual values. For linear regression, the cost function is the (often but not always) Mean Squared Error (MSE):\n",
        "\n",
        "   $$\n",
        "   J(\\beta) = \\frac{1}{2m} \\sum_{i=1}^{m} \\left( Y_{\\text{pred}}^{(i)} - Y^{(i)} \\right)^2\n",
        "   $$\n",
        "\n",
        "   Where:\n",
        "   \n",
        "   - $m$: Number of data points.\n",
        "   - $Y_{{pred}}$: Predicted values.\n",
        "   - $Y$: Actual values.\n",
        "   \n",
        "\n",
        "4. **Compute the Gradient**:\n",
        "   The gradient is the partial derivative of the cost function with respect to each parameter $( \\beta_j )$. It represents the direction and rate of change of the cost function:\n",
        "\n",
        "   $$\n",
        "   \\frac{\\partial J}{\\partial \\beta_j} = \\frac{1}{m} \\sum_{i=1}^{m} \\left( Y_{\\text{pred}}^{(i)} - Y^{(i)} \\right) X_j^{(i)}\n",
        "   $$\n",
        "\n",
        "5. **Update Parameters**:\n",
        "   Adjust the parameters by moving them in the direction opposite to the gradient (to minimize the cost function). The update rule is:\n",
        "\n",
        "   $$\n",
        "   \\beta_j = \\beta_j - \\alpha \\cdot \\frac{\\partial J}{\\partial \\beta_j}\n",
        "   $$\n",
        "\n",
        "   Where $( \\alpha )$ is the learning rate, controlling the step size.\n",
        "\n",
        "6. **Repeat**:\n",
        "   Iterate the steps until the parameters converge (i.e., the cost function no longer decreases significantly) or a maximum number of iterations is reached.\n",
        "\n",
        "---\n",
        "\n",
        "#### **Function of Gradient Descent in Linear Regression**\n",
        "\n",
        "1. **Minimizes the Cost Function**:\n",
        "   Gradient Descent adjusts the model parameters to minimize the error between predicted and actual values.\n",
        "\n",
        "2. **Optimizes Parameters**:\n",
        "   It finds the optimal values of $( \\beta_0, \\beta_1, \\ldots, \\beta_n )$, resulting in the best-fit line for the data.\n",
        "\n",
        "3. **Handles Large Datasets**:\n",
        "   Gradient Descent is efficient, especially with stochastic or mini-batch variants.\n",
        "\n",
        "---\n",
        "\n",
        "#### **Key Considerations**\n",
        "\n",
        "- **Learning Rate $( \\alpha )$**:\n",
        "  - If $( \\alpha )$ is too small, convergence will be slow.\n",
        "  - If $( \\alpha )$ is too large, the algorithm may overshoot the minimum or diverge.\n",
        "\n",
        "- **Global Minimum**:\n",
        "  - For linear regression, the cost function is convex, so Gradient Descent always converges to the global minimum.\n",
        "\n",
        "---\n",
        "\n",
        "#### **Equation Recap**\n",
        "\n",
        "- Cost Function:\n",
        "  $$\n",
        "  J(\\beta) = \\frac{1}{2m} \\sum_{i=1}^{m} \\left( Y_{\\text{pred}}^{(i)} - Y^{(i)} \\right)^2\n",
        "  $$\n",
        "\n",
        "- Gradient:\n",
        "  $$\n",
        "  \\frac{\\partial J}{\\partial \\beta_j} = \\frac{1}{m} \\sum_{i=1}^{m} \\left( Y_{\\text{pred}}^{(i)} - Y^{(i)} \\right) X_j^{(i)}\n",
        "  $$\n",
        "\n",
        "- Update Rule:\n",
        "  $$\n",
        "  \\beta_j = \\beta_j - \\alpha \\cdot \\frac{\\partial J}{\\partial \\beta_j}\n",
        "  $$\n",
        "\n",
        "---\n",
        "\n",
        "Gradient Descent is an essential method for finding optimal parameters in linear regression, ensuring that the model learns effectively from the data.\n",
        "\n",
        "**Here is an excellent video to prime you on *Gradient Descent* in Neural Networks**\n",
        "https://www.3blue1brown.com/lessons/gradient-descent\n"
      ],
      "id": "bb3e01913c5a9823"
    },
    {
      "metadata": {
        "id": "de7b250b33c84579"
      },
      "cell_type": "markdown",
      "source": [
        "### Note we start with random values"
      ],
      "id": "de7b250b33c84579"
    },
    {
      "metadata": {
        "ExecuteTime": {
          "end_time": "2024-12-03T00:47:57.534711Z",
          "start_time": "2024-12-03T00:47:57.529945Z"
        },
        "id": "66882abac6c510dd"
      },
      "cell_type": "code",
      "source": [
        "# Create linear regression model class\n",
        "from torch import nn\n",
        "import torch\n",
        "\n",
        "class LinearRegression(nn.Module):\n",
        "    def __init__(self):\n",
        "        super().__init__()\n",
        "        # Initialize the model parameters\n",
        "        self.weights = nn.Parameter(torch.randn(1,  # Starting with random weights\n",
        "                                                requires_grad=True,  # Parameters are updated via gradient descent\n",
        "                                                dtype=torch.float))  # Common dtype for PyTorch\n",
        "        self.bias = nn.Parameter(torch.randn(1,  # Start with random bias\n",
        "                                             requires_grad=True,\n",
        "                                             dtype=torch.float))\n",
        "\n",
        "    # Forward method defines the computation of the model\n",
        "    def forward(self, x: torch.Tensor) -> torch.Tensor:  # x is the input data\n",
        "        return self.weights * x + self.bias  # Linear regression formula\n"
      ],
      "id": "66882abac6c510dd",
      "outputs": [],
      "execution_count": 10
    },
    {
      "metadata": {
        "id": "1da06a34416ad203"
      },
      "cell_type": "markdown",
      "source": [
        "### Note the above `nn.Module1`-> This contains all the bilding blocks for neural networks\n",
        "\n",
        "### **PyTorch Model Building Essentials**\n",
        "\n",
        "PyTorch has four (give or take) essential modules you can use to create almost any kind of neural network you can imagine.\n",
        "\n",
        "They are `torch.nn`, `torch.optim`, `torch.utils.data.Dataset`, and `torch.utils.data.DataLoader`. For now, we'll focus on the first two and get to the other two later (though you may be able to guess what they do).\n",
        "\n",
        "| **PyTorch Module**     | **What Does It Do?**                                                                                                               |\n",
        "|-------------------------|-----------------------------------------------------------------------------------------------------------------------------------|\n",
        "| **`torch.nn`**           | Contains all of the building blocks for computational graphs (essentially a series of computations executed in a particular way). |\n",
        "| **`torch.nn.Parameter`** | Stores tensors that can be used with `nn.Module`. If `requires_grad=True`, gradients (used for updating model parameters via gradient descent) are calculated automatically. This is often referred to as \"autograd\". |\n",
        "| **`torch.nn.Module`**    | The base class for all neural network modules; all the building blocks for neural networks are subclasses. If you're building a neural network in PyTorch, your models should subclass `nn.Module`. Requires a `forward()` method to be implemented. |\n",
        "| **`torch.optim`**        | Contains various optimization algorithms (these tell the model parameters stored in `nn.Parameter` how to best change to improve gradient descent and in turn reduce the loss). |\n",
        "| **`def forward()`**      | All `nn.Module` subclasses require a `forward()` method; this defines the computation that will take place on the data passed to the particular `nn.Module` (e.g., the linear regression formula above). |\n",
        "\n",
        "\n",
        "docs:\n",
        "https://pytorch.org/docs/stable/nn.html#module-torch.nn.modules.module\n",
        "\n",
        "PyTorch Cheat-Sheet:\n",
        "https://pytorch.org/tutorials/beginner/ptcheat.html#pytorch-cheat-sheet\n",
        "\n"
      ],
      "id": "1da06a34416ad203"
    },
    {
      "metadata": {
        "id": "e777cd0e61b8a38c"
      },
      "cell_type": "markdown",
      "source": [
        "## Checking the contents of a PyTorch model\n",
        "Now we've got these out of the way, let's create a model instance with the class we've made and check its parameters using `.parameters()`.\n",
        "*We can check out out models parameters using this function*"
      ],
      "id": "e777cd0e61b8a38c"
    },
    {
      "metadata": {
        "id": "7c95a5d2acb31954"
      },
      "cell_type": "markdown",
      "source": [],
      "id": "7c95a5d2acb31954"
    },
    {
      "metadata": {
        "ExecuteTime": {
          "end_time": "2024-12-03T00:48:00.412312Z",
          "start_time": "2024-12-03T00:48:00.404035Z"
        },
        "colab": {
          "base_uri": "https://localhost:8080/"
        },
        "id": "158b04301314a4ce",
        "outputId": "5cd44883-18df-4ca5-e46f-9b901e4072ee"
      },
      "cell_type": "code",
      "source": [
        "torch.manual_seed(42)\n",
        "\n",
        "# Create an instance of the model (this is the subclass of the `nn.Module`\n",
        "model_0 = LinearRegression()\n",
        "\n",
        "model_0"
      ],
      "id": "158b04301314a4ce",
      "outputs": [
        {
          "output_type": "execute_result",
          "data": {
            "text/plain": [
              "LinearRegression()"
            ]
          },
          "metadata": {},
          "execution_count": 11
        }
      ],
      "execution_count": 11
    },
    {
      "metadata": {
        "ExecuteTime": {
          "end_time": "2024-12-03T00:48:01.166045Z",
          "start_time": "2024-12-03T00:48:01.161581Z"
        },
        "colab": {
          "base_uri": "https://localhost:8080/"
        },
        "id": "e8e18dd1f81a65e5",
        "outputId": "98133912-15eb-4c59-d5fd-b09876dbc06d"
      },
      "cell_type": "code",
      "source": [
        "# let's check out the parameters as a list- this gives you complete information\n",
        "list(model_0.parameters())"
      ],
      "id": "e8e18dd1f81a65e5",
      "outputs": [
        {
          "output_type": "execute_result",
          "data": {
            "text/plain": [
              "[Parameter containing:\n",
              " tensor([0.3367], requires_grad=True),\n",
              " Parameter containing:\n",
              " tensor([0.1288], requires_grad=True)]"
            ]
          },
          "metadata": {},
          "execution_count": 12
        }
      ],
      "execution_count": 12
    },
    {
      "metadata": {
        "id": "39bb3f8da209ad97"
      },
      "cell_type": "markdown",
      "source": [
        "### Other ways of doing the same thing"
      ],
      "id": "39bb3f8da209ad97"
    },
    {
      "metadata": {
        "ExecuteTime": {
          "end_time": "2024-12-03T00:48:02.613106Z",
          "start_time": "2024-12-03T00:48:02.609192Z"
        },
        "colab": {
          "base_uri": "https://localhost:8080/"
        },
        "id": "94ce3797a40b9bee",
        "outputId": "88cdc972-c958-4564-d6ff-4d7e1c28afc3"
      },
      "cell_type": "code",
      "source": [
        "# could also use Numpy in the following way\n",
        "import numpy as np\n",
        "\n",
        "# Convert model parameters to NumPy arrays\n",
        "param_list = [param.detach().numpy() for param in model_0.parameters()]\n",
        "\n",
        "# Print the parameters\n",
        "for i, param in enumerate(param_list):\n",
        "    print(f\"Parameter {i}: {param}\")\n"
      ],
      "id": "94ce3797a40b9bee",
      "outputs": [
        {
          "output_type": "stream",
          "name": "stdout",
          "text": [
            "Parameter 0: [0.33669037]\n",
            "Parameter 1: [0.1288094]\n"
          ]
        }
      ],
      "execution_count": 13
    },
    {
      "metadata": {
        "id": "4c10e49b8f625da7"
      },
      "cell_type": "markdown",
      "source": [
        "* Why `detach()`?\n",
        "\n",
        "    * The `detach()` method removes the parameter from PyTorch’s computation graph, ensuring no gradient tracking.\n",
        "  \n",
        "* Why use `.numpy()`?\n",
        "\n",
        "    * Converts the PyTorch tensor into a NumPy array.\n"
      ],
      "id": "4c10e49b8f625da7"
    },
    {
      "metadata": {
        "ExecuteTime": {
          "end_time": "2024-12-03T00:48:04.103681Z",
          "start_time": "2024-12-03T00:48:04.099658Z"
        },
        "colab": {
          "base_uri": "https://localhost:8080/"
        },
        "id": "af10cfb1b630c032",
        "outputId": "21e98d79-06cb-4018-f4d9-5939932a5dd0"
      },
      "cell_type": "code",
      "source": [
        "# Another way to convert to Python Lists\n",
        "param_list = [param.detach().tolist() for param in model_0.parameters()]\n",
        "\n",
        "# Print the parameters\n",
        "for i, param in enumerate(param_list):\n",
        "    print(f\"Parameter {i}: {param}\")\n"
      ],
      "id": "af10cfb1b630c032",
      "outputs": [
        {
          "output_type": "stream",
          "name": "stdout",
          "text": [
            "Parameter 0: [0.33669036626815796]\n",
            "Parameter 1: [0.12880940735340118]\n"
          ]
        }
      ],
      "execution_count": 14
    },
    {
      "metadata": {
        "ExecuteTime": {
          "end_time": "2024-12-03T00:48:04.832962Z",
          "start_time": "2024-12-03T00:48:04.829396Z"
        },
        "colab": {
          "base_uri": "https://localhost:8080/"
        },
        "id": "93cf37cb063f2d46",
        "outputId": "fcf47c80-97b6-4005-89a2-ec26475cf2b2"
      },
      "cell_type": "code",
      "source": [
        "model_0.state_dict()"
      ],
      "id": "93cf37cb063f2d46",
      "outputs": [
        {
          "output_type": "execute_result",
          "data": {
            "text/plain": [
              "OrderedDict([('weights', tensor([0.3367])), ('bias', tensor([0.1288]))])"
            ]
          },
          "metadata": {},
          "execution_count": 15
        }
      ],
      "execution_count": 15
    },
    {
      "metadata": {
        "ExecuteTime": {
          "end_time": "2024-12-03T00:48:05.437995Z",
          "start_time": "2024-12-03T00:48:05.434390Z"
        },
        "colab": {
          "base_uri": "https://localhost:8080/"
        },
        "id": "d0513df77069abca",
        "outputId": "e37e69d0-cc81-479d-889d-7836d9ba199e"
      },
      "cell_type": "code",
      "source": [
        "weight, bias\n"
      ],
      "id": "d0513df77069abca",
      "outputs": [
        {
          "output_type": "execute_result",
          "data": {
            "text/plain": [
              "(0.7, 0.3)"
            ]
          },
          "metadata": {},
          "execution_count": 16
        }
      ],
      "execution_count": 16
    },
    {
      "metadata": {
        "id": "88dfc197d56ad5c9"
      },
      "cell_type": "markdown",
      "source": [
        "### Note we are trying to train our model so we get these 'ideal' values\n",
        "\n",
        "Notice how the values for `weights` and `bias` from `model_0.state_dict()` come out as random float tensors?\n",
        "\n",
        "This is because we initialized them above using `torch.randn()`.\n",
        "\n",
        "Essentially we want to start from random parameters and get the model to update them towards parameters that fit our data best (the hardcoded `weight` and `bias` values we set when creating our straight line data).\n",
        "\n",
        "Because our model starts with random values, right now it will likely have poor predictive power.\n",
        "\n",
        "### Making predictions using `torch.inference_mode()`\n",
        "To check this we can pass it the test data `X_test` to see how closely it predicts `y_test`.\n",
        "\n",
        "When we pass data to our model, it'll go through the model's `forward()` method and produce a result using the computation we've defined.\n",
        "\n",
        "### Let's make some predictions."
      ],
      "id": "88dfc197d56ad5c9"
    },
    {
      "metadata": {
        "ExecuteTime": {
          "end_time": "2024-12-03T00:48:07.024600Z",
          "start_time": "2024-12-03T00:48:07.021415Z"
        },
        "id": "16cfc829adffcc86"
      },
      "cell_type": "code",
      "source": [
        "# Make predictions with model\n",
        "with torch.inference_mode():\n",
        "    y_preds = model_0(X_test)\n",
        "\n",
        "\n",
        "# Note: in older PyTorch code you might also see torch.no_grad()\n",
        "# with torch.no_grad():\n",
        "# y_preds = model_0(X_test)\n",
        "# y_preds"
      ],
      "id": "16cfc829adffcc86",
      "outputs": [],
      "execution_count": 17
    },
    {
      "metadata": {
        "id": "efc2397d68377e81"
      },
      "cell_type": "markdown",
      "source": [
        "### **How We Are Arriving at Our Result in This Case**\n",
        "\n",
        "When training a linear regression model in PyTorch, the process involves starting with random parameters and iteratively adjusting them to minimize the loss function. Here’s how it works step-by-step:\n",
        "\n",
        "---\n",
        "\n",
        "#### **1. Starting with Random Numbers**\n",
        "- The model parameters (weights \\(w\\) and bias \\(b\\)) are initialized with random values:\n",
        "  ```python\n",
        "  self.weights = nn.Parameter(torch.randn(1, requires_grad=True))\n",
        "  self.bias = nn.Parameter(torch.randn(1, requires_grad=True))\n"
      ],
      "id": "efc2397d68377e81"
    },
    {
      "metadata": {
        "id": "75c727fd7bd254f4"
      },
      "cell_type": "markdown",
      "source": [
        "### **Mathematical Derivation of Linear Regression**\n",
        "\n",
        "Linear regression is based on the principle of minimizing the error between the predicted outputs and the true outputs. Below, we derive the key equations step by step.\n",
        "\n",
        "---\n",
        "\n",
        "#### **1. Linear Model**\n",
        "The equation for a simple linear regression model is:\n",
        "$$\n",
        "[\n",
        "Y_{\\text{pred}} = w \\cdot X + b\n",
        "]\n",
        "$$\n",
        "Where:\n",
        "- $( Y_{\\text{pred}} )$: Predicted value.\n",
        "- $( w )$: Weight (slope of the line).\n",
        "- $( X )$: Input feature.\n",
        "- $( b )$: Bias (intercept).\n",
        "\n",
        "---\n",
        "\n",
        "#### **2. Cost Function**\n",
        "To measure how well the model fits the data, we use the **Mean Squared Error (MSE)** as the cost function:\n",
        "$$[\n",
        "J(w, b) = \\frac{1}{N} \\sum_{i=1}^N \\left( Y_{\\text{true},i} - Y_{\\text{pred},i} \\right)^2\n",
        "]\n",
        "$$\n",
        "Where:\n",
        "- $( J(w, b) )$: Cost function.\n",
        "- $( N )$: Number of data points.\n",
        "- $( Y_{\\text{true}} )$: True value.\n",
        "- $( Y_{\\text{pred}} )$: Predicted value.\n",
        "\n",
        "---\n",
        "\n",
        "#### **3. Gradient Calculation**\n",
        "The model parameters $( w, b )$ are updated by calculating the gradient of the cost function with respect to these parameters. This involves taking partial derivatives:\n",
        "\n",
        "1. Gradient with respect to $( w )$:\n",
        "$[\n",
        "\\frac{\\partial J}{\\partial w} = -\\frac{2}{N} \\sum_{i=1}^N \\left( Y_{\\text{true},i} - Y_{\\text{pred},i} \\right) X_i\n",
        "]$\n",
        "\n",
        "2. Gradient with respect to $( b )$:\n",
        "$[\n",
        "\\frac{\\partial J}{\\partial b} = -\\frac{2}{N} \\sum_{i=1}^N \\left( Y_{\\text{true},i} - Y_{\\text{pred},i} \\right)\n",
        "]$\n",
        "\n",
        "---\n",
        "\n",
        "#### **4. Gradient Descent Update Rule**\n",
        "Using these gradients, the model parameters are updated iteratively:\n",
        "$[\n",
        "w = w - \\alpha \\cdot \\frac{\\partial J}{\\partial w}\n",
        "]$\n",
        "$[\n",
        "b = b - \\alpha \\cdot \\frac{\\partial J}{\\partial b}\n",
        "]$\n",
        "Where:\n",
        "- $( \\alpha )$: Learning rate, controlling the size of each update step.\n",
        "\n",
        "---\n",
        "\n",
        "#### **5. Final Linear Regression Formula**\n",
        "After training, the model learns the best-fit parameters $( w, b )$ to minimize the cost function. The final prediction is computed as:\n",
        "$[\n",
        "Y_{\\text{pred}} = w \\cdot X + b\n",
        "]$\n",
        "\n",
        "---\n",
        "\n",
        "### **Key Takeaways**\n",
        "1. The cost function quantifies the error between predicted and true values.\n",
        "2. Gradients guide how to update $( w )$ and $( b )$ to reduce the cost function.\n",
        "3. Gradient descent ensures the model converges to the optimal parameters for a best-fit line.\n",
        "\n"
      ],
      "id": "75c727fd7bd254f4"
    },
    {
      "metadata": {
        "id": "17b9e2b02ad00eae"
      },
      "cell_type": "markdown",
      "source": [
        "### Making prediciton using `torch.inference_mode()`\n",
        "To check our model's predictive power, let's see how well it predicts `Y_test` based on `X_test`\n",
        "When we pass data through the model, it's going to run thrugh the `forward()` method"
      ],
      "id": "17b9e2b02ad00eae"
    },
    {
      "metadata": {
        "ExecuteTime": {
          "end_time": "2024-12-03T00:48:09.722760Z",
          "start_time": "2024-12-03T00:48:09.718352Z"
        },
        "colab": {
          "base_uri": "https://localhost:8080/"
        },
        "id": "ca62c91e9496c551",
        "outputId": "24d783be-8473-4ce5-f841-fff15ece8be6"
      },
      "cell_type": "code",
      "source": [
        "print(f'X_test is: {X_test}')\n",
        "print(f'y_test is: {y_test}')"
      ],
      "id": "ca62c91e9496c551",
      "outputs": [
        {
          "output_type": "stream",
          "name": "stdout",
          "text": [
            "X_test is: tensor([[0.8000],\n",
            "        [0.8200],\n",
            "        [0.8400],\n",
            "        [0.8600],\n",
            "        [0.8800],\n",
            "        [0.9000],\n",
            "        [0.9200],\n",
            "        [0.9400],\n",
            "        [0.9600],\n",
            "        [0.9800]])\n",
            "y_test is: tensor([[0.8600],\n",
            "        [0.8740],\n",
            "        [0.8880],\n",
            "        [0.9020],\n",
            "        [0.9160],\n",
            "        [0.9300],\n",
            "        [0.9440],\n",
            "        [0.9580],\n",
            "        [0.9720],\n",
            "        [0.9860]])\n"
          ]
        }
      ],
      "execution_count": 18
    },
    {
      "metadata": {
        "ExecuteTime": {
          "end_time": "2024-12-03T00:48:10.472653Z",
          "start_time": "2024-12-03T00:48:10.469128Z"
        },
        "colab": {
          "base_uri": "https://localhost:8080/"
        },
        "id": "cef1755a0ac0a53",
        "outputId": "5e7a663e-ca3e-4c6c-82d0-395f232344e9"
      },
      "cell_type": "code",
      "source": [
        "with torch.inference_mode():\n",
        "    y_preds = model_0(X_test)\n",
        "\n",
        "y_preds"
      ],
      "id": "cef1755a0ac0a53",
      "outputs": [
        {
          "output_type": "execute_result",
          "data": {
            "text/plain": [
              "tensor([[0.3982],\n",
              "        [0.4049],\n",
              "        [0.4116],\n",
              "        [0.4184],\n",
              "        [0.4251],\n",
              "        [0.4318],\n",
              "        [0.4386],\n",
              "        [0.4453],\n",
              "        [0.4520],\n",
              "        [0.4588]])"
            ]
          },
          "metadata": {},
          "execution_count": 19
        }
      ],
      "execution_count": 19
    },
    {
      "metadata": {
        "ExecuteTime": {
          "end_time": "2024-12-03T00:48:11.322984Z",
          "start_time": "2024-12-03T00:48:11.227490Z"
        },
        "colab": {
          "base_uri": "https://localhost:8080/",
          "height": 480
        },
        "id": "f7387ad93d5e1659",
        "outputId": "a71d6d97-7e30-48f9-ffdf-f02ab27eeceb"
      },
      "cell_type": "code",
      "source": [
        "plot_predictions(predictions=y_preds)"
      ],
      "id": "f7387ad93d5e1659",
      "outputs": [
        {
          "output_type": "display_data",
          "data": {
            "text/plain": [
              "<Figure size 1000x700 with 1 Axes>"
            ],
            "image/png": "[encoded data removed]"
          },
          "metadata": {}
        }
      ],
      "execution_count": 20
    },
    {
      "metadata": {
        "id": "ab77996a7ac9294e"
      },
      "cell_type": "markdown",
      "source": [
        "#### So we see that the predicted values are pretty far off. What's going on here?\n",
        "\n",
        "## Train model\n",
        "\n",
        "The whole idea of training is for a model to move from *unknown* parameters (these may start out as random numbers) to some *known* parameters.\n",
        "\n",
        "This is what goes on as we **train** our model. When we train our model, the weights and biases are altered such that the loss function is minimized. Thus we get a better representation of the predicted values as the model learns.\n",
        "\n",
        "One way to represent how well the model is learning is to look at the loss function.\n",
        "\n",
        "### Loss Function in Linear Regression\n",
        "\n",
        "In linear regression, the predicted value for the $i$-th sample, $\\hat{y}^{(i)}$, is computed as:\n",
        "\n",
        "$$\n",
        "[\n",
        "\\hat{y}^{(i)} = w_0 + w_1 x_1^{(i)} + w_2 x_2^{(i)} + \\dots + w_p x_p^{(i)} = w_0 + \\sum_{j=1}^p w_j x_j^{(i)}\n",
        "]\n",
        "$$\n",
        "\n",
        "where:\n",
        "\n",
        "- $w_0$ is the bias (intercept) term,\n",
        "- $w_j$ are the weights for each feature,\n",
        "- $x_j^{(i)}$ is the $j$-th feature of the $i$-th sample,\n",
        "- $p$ is the number of features.\n",
        "\n",
        "#### Vectorized Form\n",
        "\n",
        "Using vector notation, this becomes:\n",
        "\n",
        "$[\n",
        "\\hat{y}^{(i)} = \\mathbf{w}^\\top \\mathbf{x}^{(i)}\n",
        "]$\n",
        "\n",
        "where:\n",
        "\n",
        "$[\n",
        "\\mathbf{w} = \\begin{bmatrix} w_0 \\\\ w_1 \\\\ \\vdots \\\\ w_p \\end{bmatrix}, \\quad \\mathbf{x}^{(i)} = \\begin{bmatrix} 1 \\\\ x_1^{(i)} \\\\ \\vdots \\\\ x_p^{(i)} \\end{bmatrix}\n",
        "]$\n",
        "\n",
        "#### Mean Squared Error (MSE)\n",
        "\n",
        "The Mean Squared Error (MSE) is the most common loss function in linear regression. It is defined as:\n",
        "\n",
        "$[\n",
        "J(\\mathbf{w}) = \\frac{1}{n} \\sum_{i=1}^n \\left( y^{(i)} - \\hat{y}^{(i)} \\right)^2\n",
        "]$\n",
        "\n",
        "Substituting $\\hat{y}^{(i)} = \\mathbf{w}^\\top \\mathbf{x}^{(i)}$, we get:\n",
        "\n",
        "$[\n",
        "J(\\mathbf{w}) = \\frac{1}{n} \\sum_{i=1}^n \\left( y^{(i)} - \\mathbf{w}^\\top \\mathbf{x}^{(i)} \\right)^2\n",
        "]$\n",
        "\n",
        "where:\n",
        "\n",
        "- $n$ is the number of samples,\n",
        "- $y^{(i)}$ is the true target value for the $i$-th sample,\n",
        "- $\\hat{y}^{(i)}$ is the predicted value.\n",
        "\n",
        "#### Gradient Computation\n",
        "\n",
        "To minimize the loss function, we compute the gradient of $J(\\mathbf{w})$ with respect to $\\mathbf{w}$:\n",
        "\n",
        "$[\n",
        "\\nabla_{\\mathbf{w}} J(\\mathbf{w}) = -\\frac{2}{n} \\sum_{i=1}^n \\left( y^{(i)} - \\mathbf{w}^\\top \\mathbf{x}^{(i)} \\right) \\mathbf{x}^{(i)}\n",
        "]$\n",
        "\n",
        "#### Weight Update Rule\n",
        "\n",
        "Using gradient descent, the weights are updated as follows:\n",
        "\n",
        "$[\n",
        "\\mathbf{w} \\leftarrow \\mathbf{w} - \\alpha \\nabla_{\\mathbf{w}} J(\\mathbf{w})\n",
        "]$\n",
        "\n",
        "where $\\alpha$ is the learning rate, which controls the step size during optimization.\n",
        "\n",
        "the loss functions in PyTorch can be found here: https://pytorch.org/docs/stable/nn.html#loss-functions\n",
        "\n",
        "**NOTE:** Loss function also called 'cost function' or 'criterion' depending on the case.\n",
        "\n",
        "**Definition** *A loss function is essentially a measure of how far your model's predictions are from ideal output's*\n",
        "\n",
        "### Things we need to train a model\n",
        "1. Loss function\n",
        "2. Optimizer\n",
        "\n",
        "| **Function**      | **What does it do?**                                                                                   | **Where does it live in PyTorch?**                              | **Common values**                                                                                                                         |\n",
        "|--------------------|-------------------------------------------------------------------------------------------------------|-----------------------------------------------------------------|-------------------------------------------------------------------------------------------------------------------------------------------|\n",
        "| Loss function      | Measures how wrong your model's predictions (e.g., `y_preds`) are compared to the truth labels (e.g., `y_test`). Lower is better. | PyTorch has plenty of built-in loss functions in `torch.nn`.    | Mean Absolute Error (MAE) for regression problems (`torch.nn.L1Loss()`). Binary cross-entropy for binary classification problems (`torch.nn.BCELoss()`). |\n",
        "| Optimizer          | Tells your model how to update its internal parameters to best lower the loss.                        | You can find various optimization function implementations in `torch.optim`. | Stochastic Gradient Descent (`torch.optim.SGD()`). Adam optimizer (`torch.optim.Adam()`).                                                |\n",
        "\n",
        "\n",
        "\n",
        "---\n",
        "\n",
        "\n"
      ],
      "id": "ab77996a7ac9294e"
    },
    {
      "metadata": {
        "id": "ccf442ccb97b3fb7"
      },
      "cell_type": "markdown",
      "source": [
        "### In our case here we will use the L1Loss function or Mean Absolute Error (MAE). We could also use the L2loss- the Mean Squared error (MSE)"
      ],
      "id": "ccf442ccb97b3fb7"
    },
    {
      "metadata": {
        "ExecuteTime": {
          "end_time": "2024-12-03T18:23:31.072365Z",
          "start_time": "2024-12-03T18:23:31.026843Z"
        },
        "id": "4b27f2fcafeee074"
      },
      "cell_type": "code",
      "source": [
        "# Loss function\n",
        "loss_fn = nn.L1Loss()\n",
        "\n",
        "# Optimizer - stochastic gradient descent (SGD), lr = learning rate **very important hyperparameter**\n",
        "optimizer = torch.optim.SGD(params=model_0.parameters(), lr=0.01)"
      ],
      "id": "4b27f2fcafeee074",
      "outputs": [],
      "execution_count": 21
    },
    {
      "cell_type": "markdown",
      "source": [
        "### Building a training loop\n",
        "\n",
        "For a training loop you need to:\n",
        "0. Loop through the data.\n",
        "1. Forward pass (go through the neural network via forward propagation).\n",
        "2. Calculate loss (compare forward pass predictions to ground truth).\n",
        "3. Optimizer zero grad.\n",
        "4. Loss backward- back propagation through neural network to calculate gradients of each parameter of model with respect to loss.\n",
        "5. Optimizer step - use the optimizer to adjust our model's parameters to try to improve the loss (**gradient descent**) to get to some minima.\n"
      ],
      "metadata": {
        "id": "0cGXG5Ny0ruY"
      },
      "id": "0cGXG5Ny0ruY"
    },
    {
      "metadata": {
        "ExecuteTime": {
          "end_time": "2024-12-03T00:48:14.122965Z",
          "start_time": "2024-12-03T00:48:14.119910Z"
        },
        "colab": {
          "base_uri": "https://localhost:8080/"
        },
        "id": "621c50ece31d05de",
        "outputId": "0b57db4a-b349-4da4-fc95-256290478816"
      },
      "cell_type": "code",
      "source": [
        "torch.manual_seed(42)\n",
        "epochs = 1 # 1 loop through the data\n",
        "\n",
        "for epoch in range(epochs):\n",
        "    model_0.train() # train mode in PyTorch sets all parameters to require gradients\n",
        "    # Forward pass\n",
        "    y_pred = model_0(X_train)\n",
        "    # Calculate loss\n",
        "    loss = loss_fn(y_pred, y_train) #  calculate the difference between the predictions and our trained values\n",
        "    print(f'Loss: {loss}')\n",
        "    # Optimizer zero grad - zero the gradients as they accumulate over time\n",
        "    optimizer.zero_grad()\n",
        "    # Loss backward- backpropagation\n",
        "    loss.backward()\n",
        "    # Optimizer step- gradient descent- we have to zero the optimizer changes as they go through the loop\n",
        "    optimizer.step()\n",
        "    # Testing\n",
        "    model_0.eval() # put the model in evaluation mode\n",
        "    # Print out model sate_dict()\n",
        "    print(model_0.state_dict())\n",
        "    print(f'\\nEpoch: {epoch} | Loss: {loss}')\n"
      ],
      "id": "621c50ece31d05de",
      "outputs": [
        {
          "output_type": "stream",
          "name": "stdout",
          "text": [
            "Loss: 0.31288138031959534\n",
            "OrderedDict([('weights', tensor([0.3406])), ('bias', tensor([0.1388]))])\n",
            "\n",
            "Epoch: 0 | Loss: 0.31288138031959534\n"
          ]
        }
      ],
      "execution_count": 22
    },
    {
      "metadata": {
        "ExecuteTime": {
          "end_time": "2024-12-03T00:48:14.805765Z",
          "start_time": "2024-12-03T00:48:14.803720Z"
        },
        "colab": {
          "base_uri": "https://localhost:8080/"
        },
        "id": "dfc97deb994be31a",
        "outputId": "c0004c03-1773-4aa9-bf16-cb852a9886b2"
      },
      "cell_type": "code",
      "source": [
        "with torch.inference_mode():\n",
        "    y_preds_new = model_0(X_test)\n",
        "\n",
        "y_preds_new"
      ],
      "id": "dfc97deb994be31a",
      "outputs": [
        {
          "output_type": "execute_result",
          "data": {
            "text/plain": [
              "tensor([[0.4113],\n",
              "        [0.4181],\n",
              "        [0.4249],\n",
              "        [0.4317],\n",
              "        [0.4385],\n",
              "        [0.4453],\n",
              "        [0.4522],\n",
              "        [0.4590],\n",
              "        [0.4658],\n",
              "        [0.4726]])"
            ]
          },
          "metadata": {},
          "execution_count": 23
        }
      ],
      "execution_count": 23
    },
    {
      "metadata": {
        "colab": {
          "base_uri": "https://localhost:8080/",
          "height": 480
        },
        "id": "b60f0b6bb6042f54",
        "outputId": "41ff57ba-453e-48f9-f788-8ea7b1feefa3"
      },
      "cell_type": "code",
      "outputs": [
        {
          "output_type": "display_data",
          "data": {
            "text/plain": [
              "<Figure size 1000x700 with 1 Axes>"
            ],
            "image/png": "[encoded data removed]"
          },
          "metadata": {}
        }
      ],
      "execution_count": 24,
      "source": [
        "plot_predictions(predictions=y_preds_new);"
      ],
      "id": "b60f0b6bb6042f54"
    },
    {
      "cell_type": "code",
      "source": [
        "torch.manual_seed(42)\n",
        "epochs = 200 # 1 loop through the data\n",
        "\n",
        "# Track key values\n",
        "epoch_count = []\n",
        "loss_values = []\n",
        "test_loss_values = []\n",
        "\n",
        "for epoch in range(epochs):\n",
        "    model_0.train() # train mode in PyTorch sets all parameters to require gradients\n",
        "    # Forward pass\n",
        "    y_pred = model_0(X_train)\n",
        "    # Calculate loss\n",
        "    loss = loss_fn(y_pred, y_train) #  calculate the difference between the predictions and our trained values\n",
        "    print(f'Loss: {loss}')\n",
        "    # Optimizer zero grad - zero the gradients as they accumulate over time\n",
        "    optimizer.zero_grad()\n",
        "    # Loss backward- backpropagation\n",
        "    loss.backward()\n",
        "    # Optimizer step- gradient descent- we have to zero the optimizer changes as they go through the loop\n",
        "    optimizer.step()\n",
        "    # Testing\n",
        "    model_0.eval() # put the model in evaluation mode- tuens off settings not needed for evaluation/testing (dropout/batchnorm layers)\n",
        "    with torch.inference_mode(): # turns off gradient tracking\n",
        "        with torch.no_grad():\n",
        "            test_pred = model_0(X_test)\n",
        "            test_loss = loss_fn(test_pred, y_test)\n",
        "        print(f'Test loss: {test_loss}')\n",
        "    # Print out model sate_dict()\n",
        "    if epoch % 10 == 0:\n",
        "        epoch_count.append(epoch)\n",
        "        loss_values.append(loss)\n",
        "        test_loss_values.append(test_loss)\n",
        "        print(f'\\nEpoch: {epoch} | Loss: {loss} | Test Loss: {test_loss}')\n",
        "\n"
      ],
      "metadata": {
        "colab": {
          "base_uri": "https://localhost:8080/"
        },
        "id": "wamtID1I--eY",
        "outputId": "55bb609c-b246-4dee-f152-b48c89cd96b5"
      },
      "id": "wamtID1I--eY",
      "execution_count": 25,
      "outputs": [
        {
          "output_type": "stream",
          "name": "stdout",
          "text": [
            "Loss: 0.3013603389263153\n",
            "Test loss: 0.4675942063331604\n",
            "\n",
            "Epoch: 0 | Loss: 0.3013603389263153 | Test Loss: 0.4675942063331604\n",
            "Loss: 0.28983935713768005\n",
            "Test loss: 0.4541231691837311\n",
            "Loss: 0.2783183455467224\n",
            "Test loss: 0.44065219163894653\n",
            "Loss: 0.26679736375808716\n",
            "Test loss: 0.4271811842918396\n",
            "Loss: 0.2552763521671295\n",
            "Test loss: 0.41371020674705505\n",
            "Loss: 0.24375534057617188\n",
            "Test loss: 0.40023916959762573\n",
            "Loss: 0.23223432898521423\n",
            "Test loss: 0.3867681920528412\n",
            "Loss: 0.22071333229541779\n",
            "Test loss: 0.37329721450805664\n",
            "Loss: 0.20919232070446014\n",
            "Test loss: 0.3598262071609497\n",
            "Loss: 0.1976713240146637\n",
            "Test loss: 0.3463551998138428\n",
            "Loss: 0.18615034222602844\n",
            "Test loss: 0.3328842222690582\n",
            "\n",
            "Epoch: 10 | Loss: 0.18615034222602844 | Test Loss: 0.3328842222690582\n",
            "Loss: 0.1746293306350708\n",
            "Test loss: 0.3194132149219513\n",
            "Loss: 0.16310831904411316\n",
            "Test loss: 0.30594223737716675\n",
            "Loss: 0.1515873372554779\n",
            "Test loss: 0.2924712300300598\n",
            "Loss: 0.14006635546684265\n",
            "Test loss: 0.27900025248527527\n",
            "Loss: 0.1285453587770462\n",
            "Test loss: 0.2655292749404907\n",
            "Loss: 0.11702437698841095\n",
            "Test loss: 0.2520582973957062\n",
            "Loss: 0.1060912236571312\n",
            "Test loss: 0.2395961582660675\n",
            "Loss: 0.09681284427642822\n",
            "Test loss: 0.22817862033843994\n",
            "Loss: 0.08908725529909134\n",
            "Test loss: 0.21729660034179688\n",
            "Loss: 0.08227583020925522\n",
            "Test loss: 0.2069590985774994\n",
            "\n",
            "Epoch: 20 | Loss: 0.08227583020925522 | Test Loss: 0.2069590985774994\n",
            "Loss: 0.07638873159885406\n",
            "Test loss: 0.19773726165294647\n",
            "Loss: 0.07160007208585739\n",
            "Test loss: 0.1890866756439209\n",
            "Loss: 0.06747635453939438\n",
            "Test loss: 0.18101617693901062\n",
            "Loss: 0.06395438313484192\n",
            "Test loss: 0.17353470623493195\n",
            "Loss: 0.06097004935145378\n",
            "Test loss: 0.16665108501911163\n",
            "Loss: 0.05845819041132927\n",
            "Test loss: 0.16037428379058838\n",
            "Loss: 0.05635259300470352\n",
            "Test loss: 0.15471318364143372\n",
            "Loss: 0.0545857772231102\n",
            "Test loss: 0.14967669546604156\n",
            "Loss: 0.053148526698350906\n",
            "Test loss: 0.14464017748832703\n",
            "Loss: 0.05181945487856865\n",
            "Test loss: 0.14023718237876892\n",
            "\n",
            "Epoch: 30 | Loss: 0.05181945487856865 | Test Loss: 0.14023718237876892\n",
            "Loss: 0.05069301277399063\n",
            "Test loss: 0.13647659122943878\n",
            "Loss: 0.0498228520154953\n",
            "Test loss: 0.13271598517894745\n",
            "Loss: 0.04895269125699997\n",
            "Test loss: 0.12895536422729492\n",
            "Loss: 0.04819351062178612\n",
            "Test loss: 0.12584610283374786\n",
            "Loss: 0.047531817108392715\n",
            "Test loss: 0.12273679673671722\n",
            "Loss: 0.04692792519927025\n",
            "Test loss: 0.1202877014875412\n",
            "Loss: 0.04642331600189209\n",
            "Test loss: 0.11783860623836517\n",
            "Loss: 0.04591871052980423\n",
            "Test loss: 0.11538954079151154\n",
            "Loss: 0.04543796554207802\n",
            "Test loss: 0.11360953003168106\n",
            "Loss: 0.04503796249628067\n",
            "Test loss: 0.11182951927185059\n",
            "\n",
            "Epoch: 40 | Loss: 0.04503796249628067 | Test Loss: 0.11182951927185059\n",
            "Loss: 0.04463795945048332\n",
            "Test loss: 0.1100495308637619\n",
            "Loss: 0.04423796385526657\n",
            "Test loss: 0.10826952755451202\n",
            "Loss: 0.04383796453475952\n",
            "Test loss: 0.10648951679468155\n",
            "Loss: 0.04343796148896217\n",
            "Test loss: 0.10470950603485107\n",
            "Loss: 0.043074630200862885\n",
            "Test loss: 0.10360751301050186\n",
            "Loss: 0.04272563382983208\n",
            "Test loss: 0.10250549018383026\n",
            "Loss: 0.04237663000822067\n",
            "Test loss: 0.10140349715948105\n",
            "Loss: 0.04202762991189957\n",
            "Test loss: 0.10030148178339005\n",
            "Loss: 0.04167863354086876\n",
            "Test loss: 0.09919948130846024\n",
            "Loss: 0.04132963344454765\n",
            "Test loss: 0.09809747338294983\n",
            "\n",
            "Epoch: 50 | Loss: 0.04132963344454765 | Test Loss: 0.09809747338294983\n",
            "Loss: 0.04098063334822655\n",
            "Test loss: 0.09699545800685883\n",
            "Loss: 0.04063162952661514\n",
            "Test loss: 0.09589345753192902\n",
            "Loss: 0.040282636880874634\n",
            "Test loss: 0.0947914719581604\n",
            "Loss: 0.039933640509843826\n",
            "Test loss: 0.09368947893381119\n",
            "Loss: 0.03958464413881302\n",
            "Test loss: 0.09258746355772018\n",
            "Loss: 0.03923564404249191\n",
            "Test loss: 0.09148545563220978\n",
            "Loss: 0.03888664394617081\n",
            "Test loss: 0.09038344770669937\n",
            "Loss: 0.0385376438498497\n",
            "Test loss: 0.08928143978118896\n",
            "Loss: 0.03818932920694351\n",
            "Test loss: 0.08886633068323135\n",
            "Loss: 0.03785243630409241\n",
            "Test loss: 0.08776430785655975\n",
            "\n",
            "Epoch: 60 | Loss: 0.03785243630409241 | Test Loss: 0.08776430785655975\n",
            "Loss: 0.0375034399330616\n",
            "Test loss: 0.08666229248046875\n",
            "Loss: 0.037164121866226196\n",
            "Test loss: 0.08624717593193054\n",
            "Loss: 0.03681822493672371\n",
            "Test loss: 0.08514519035816193\n",
            "Loss: 0.03647511452436447\n",
            "Test loss: 0.08473004400730133\n",
            "Loss: 0.03613303601741791\n",
            "Test loss: 0.08362803608179092\n",
            "Loss: 0.03578609973192215\n",
            "Test loss: 0.08321291208267212\n",
            "Loss: 0.03544783592224121\n",
            "Test loss: 0.08211090415716171\n",
            "Loss: 0.035098835825920105\n",
            "Test loss: 0.0810088962316513\n",
            "Loss: 0.03476089984178543\n",
            "Test loss: 0.0805937647819519\n",
            "Loss: 0.03441363573074341\n",
            "Test loss: 0.0794917643070221\n",
            "\n",
            "Epoch: 70 | Loss: 0.03441363573074341 | Test Loss: 0.0794917643070221\n",
            "Loss: 0.03407188132405281\n",
            "Test loss: 0.07907666265964508\n",
            "Loss: 0.03372843936085701\n",
            "Test loss: 0.07797462493181229\n",
            "Loss: 0.03338287025690079\n",
            "Test loss: 0.07755951583385468\n",
            "Loss: 0.033043231815099716\n",
            "Test loss: 0.07645749300718307\n",
            "Loss: 0.03269423171877861\n",
            "Test loss: 0.07535548508167267\n",
            "Loss: 0.032357655465602875\n",
            "Test loss: 0.07494036853313446\n",
            "Loss: 0.03200903534889221\n",
            "Test loss: 0.07383836805820465\n",
            "Loss: 0.03166864812374115\n",
            "Test loss: 0.07342323660850525\n",
            "Loss: 0.03132382780313492\n",
            "Test loss: 0.07232122868299484\n",
            "Loss: 0.030979642644524574\n",
            "Test loss: 0.07190609723329544\n",
            "\n",
            "Epoch: 80 | Loss: 0.030979642644524574 | Test Loss: 0.07190609723329544\n",
            "Loss: 0.030638623982667923\n",
            "Test loss: 0.07080408930778503\n",
            "Loss: 0.0302906334400177\n",
            "Test loss: 0.07038896530866623\n",
            "Loss: 0.029953425750136375\n",
            "Test loss: 0.06928696483373642\n",
            "Loss: 0.02960442565381527\n",
            "Test loss: 0.06818496435880661\n",
            "Loss: 0.029265418648719788\n",
            "Test loss: 0.0677698403596878\n",
            "Loss: 0.028919223695993423\n",
            "Test loss: 0.0666678324341774\n",
            "Loss: 0.028576409444212914\n",
            "Test loss: 0.066252700984478\n",
            "Loss: 0.028234025463461876\n",
            "Test loss: 0.06515069305896759\n",
            "Loss: 0.02788739837706089\n",
            "Test loss: 0.06473556160926819\n",
            "Loss: 0.02754882536828518\n",
            "Test loss: 0.06363357603549957\n",
            "\n",
            "Epoch: 90 | Loss: 0.02754882536828518 | Test Loss: 0.06363357603549957\n",
            "Loss: 0.027199819684028625\n",
            "Test loss: 0.06253156810998917\n",
            "Loss: 0.026862185448408127\n",
            "Test loss: 0.062116436660289764\n",
            "Loss: 0.02651461586356163\n",
            "Test loss: 0.061014432460069656\n",
            "Loss: 0.026173178106546402\n",
            "Test loss: 0.06059930846095085\n",
            "Loss: 0.025829419493675232\n",
            "Test loss: 0.05949730426073074\n",
            "Loss: 0.02548416517674923\n",
            "Test loss: 0.05908216908574104\n",
            "Loss: 0.025144213810563087\n",
            "Test loss: 0.057980168610811234\n",
            "Loss: 0.02479521557688713\n",
            "Test loss: 0.05687814950942993\n",
            "Loss: 0.024458957836031914\n",
            "Test loss: 0.05646304413676262\n",
            "Loss: 0.024110013619065285\n",
            "Test loss: 0.05536102131009102\n",
            "\n",
            "Epoch: 100 | Loss: 0.024110013619065285 | Test Loss: 0.05536102131009102\n",
            "Loss: 0.02376994863152504\n",
            "Test loss: 0.05494590476155281\n",
            "Loss: 0.02342480979859829\n",
            "Test loss: 0.05384388566017151\n",
            "Loss: 0.023080935701727867\n",
            "Test loss: 0.0534287691116333\n",
            "Loss: 0.022739607840776443\n",
            "Test loss: 0.052326757460832596\n",
            "Loss: 0.022391926497220993\n",
            "Test loss: 0.05191164091229439\n",
            "Loss: 0.022054409608244896\n",
            "Test loss: 0.05080962926149368\n",
            "Loss: 0.02170540764927864\n",
            "Test loss: 0.049707621335983276\n",
            "Loss: 0.021366719156503677\n",
            "Test loss: 0.04929249361157417\n",
            "Loss: 0.021020207554101944\n",
            "Test loss: 0.04819049686193466\n",
            "Loss: 0.020677709951996803\n",
            "Test loss: 0.04777535796165466\n",
            "\n",
            "Epoch: 110 | Loss: 0.020677709951996803 | Test Loss: 0.04777535796165466\n",
            "Loss: 0.02033500373363495\n",
            "Test loss: 0.046673357486724854\n",
            "Loss: 0.01998869702219963\n",
            "Test loss: 0.04625822976231575\n",
            "Loss: 0.019649803638458252\n",
            "Test loss: 0.045156221836805344\n",
            "Loss: 0.019300809130072594\n",
            "Test loss: 0.04405422881245613\n",
            "Loss: 0.018963487818837166\n",
            "Test loss: 0.04363910108804703\n",
            "Loss: 0.01861560344696045\n",
            "Test loss: 0.04253707453608513\n",
            "Loss: 0.018274478614330292\n",
            "Test loss: 0.042121969163417816\n",
            "Loss: 0.017930403351783752\n",
            "Test loss: 0.04101995751261711\n",
            "Loss: 0.01758546568453312\n",
            "Test loss: 0.04060482233762741\n",
            "Loss: 0.017245199531316757\n",
            "Test loss: 0.0395028181374073\n",
            "\n",
            "Epoch: 120 | Loss: 0.017245199531316757 | Test Loss: 0.0395028181374073\n",
            "Loss: 0.016896454617381096\n",
            "Test loss: 0.0390876941382885\n",
            "Loss: 0.01656000316143036\n",
            "Test loss: 0.037985701113939285\n",
            "Loss: 0.016210997477173805\n",
            "Test loss: 0.03688368946313858\n",
            "Loss: 0.01587124727666378\n",
            "Test loss: 0.036468543112277985\n",
            "Loss: 0.015525798313319683\n",
            "Test loss: 0.035366542637348175\n",
            "Loss: 0.015182236209511757\n",
            "Test loss: 0.034951429814100266\n",
            "Loss: 0.014840595424175262\n",
            "Test loss: 0.03384942561388016\n",
            "Loss: 0.01449323259294033\n",
            "Test loss: 0.03343429043889046\n",
            "Loss: 0.014155393466353416\n",
            "Test loss: 0.03233227878808975\n",
            "Loss: 0.013806397095322609\n",
            "Test loss: 0.031230276450514793\n",
            "\n",
            "Epoch: 130 | Loss: 0.013806397095322609 | Test Loss: 0.031230276450514793\n",
            "Loss: 0.013468016870319843\n",
            "Test loss: 0.030815154314041138\n",
            "Loss: 0.013121193274855614\n",
            "Test loss: 0.02971314825117588\n",
            "Loss: 0.01277900766581297\n",
            "Test loss: 0.02929801307618618\n",
            "Loss: 0.012435992248356342\n",
            "Test loss: 0.028196018189191818\n",
            "Loss: 0.01208999752998352\n",
            "Test loss: 0.027780896052718163\n",
            "Loss: 0.011750795878469944\n",
            "Test loss: 0.026678884401917458\n",
            "Loss: 0.011401787400245667\n",
            "Test loss: 0.025576870888471603\n",
            "Loss: 0.011064787395298481\n",
            "Test loss: 0.025161748751997948\n",
            "Loss: 0.010716589167714119\n",
            "Test loss: 0.024059748277068138\n",
            "Loss: 0.010375778190791607\n",
            "Test loss: 0.023644620552659035\n",
            "\n",
            "Epoch: 140 | Loss: 0.010375778190791607 | Test Loss: 0.023644620552659035\n",
            "Loss: 0.010031387209892273\n",
            "Test loss: 0.022542614489793777\n",
            "Loss: 0.009686763398349285\n",
            "Test loss: 0.022127490490674973\n",
            "Loss: 0.009346187114715576\n",
            "Test loss: 0.021025484427809715\n",
            "Loss: 0.008997755125164986\n",
            "Test loss: 0.020610356703400612\n",
            "Loss: 0.008660981431603432\n",
            "Test loss: 0.019508343189954758\n",
            "Loss: 0.008311985060572624\n",
            "Test loss: 0.018406350165605545\n",
            "Loss: 0.007972544990479946\n",
            "Test loss: 0.017991220578551292\n",
            "Loss: 0.007626785431057215\n",
            "Test loss: 0.016889220103621483\n",
            "Loss: 0.0072835334576666355\n",
            "Test loss: 0.016474086791276932\n",
            "Loss: 0.006941580679267645\n",
            "Test loss: 0.0153720797970891\n",
            "\n",
            "Epoch: 150 | Loss: 0.006941580679267645 | Test Loss: 0.0153720797970891\n",
            "Loss: 0.006594526115804911\n",
            "Test loss: 0.01495695672929287\n",
            "Loss: 0.006256377790123224\n",
            "Test loss: 0.013854950666427612\n",
            "Loss: 0.005907376762479544\n",
            "Test loss: 0.012752944603562355\n",
            "Loss: 0.005569315515458584\n",
            "Test loss: 0.012337815947830677\n",
            "Loss: 0.005222178064286709\n",
            "Test loss: 0.011235815472900867\n",
            "Loss: 0.004880306776612997\n",
            "Test loss: 0.010820692405104637\n",
            "Loss: 0.004536976106464863\n",
            "Test loss: 0.009718680754303932\n",
            "Loss: 0.00419129803776741\n",
            "Test loss: 0.009303552098572254\n",
            "Loss: 0.0038517764769494534\n",
            "Test loss: 0.008201557211577892\n",
            "Loss: 0.0035027749836444855\n",
            "Test loss: 0.007099539041519165\n",
            "\n",
            "Epoch: 160 | Loss: 0.0035027749836444855 | Test Loss: 0.007099539041519165\n",
            "Loss: 0.0031660839449614286\n",
            "Test loss: 0.006684416439384222\n",
            "Loss: 0.002817571861669421\n",
            "Test loss: 0.0055824099108576775\n",
            "Loss: 0.0024770735763013363\n",
            "Test loss: 0.005167287774384022\n",
            "Loss: 0.0021323717664927244\n",
            "Test loss: 0.004065275192260742\n",
            "Loss: 0.0017880648374557495\n",
            "Test loss: 0.003650152590125799\n",
            "Loss: 0.0014518328243866563\n",
            "Test loss: 0.0018701612716540694\n",
            "Loss: 0.0011887758737429976\n",
            "Test loss: 0.005023092031478882\n",
            "Loss: 0.0025885067880153656\n",
            "Test loss: 0.008447891101241112\n",
            "Loss: 0.008932482451200485\n",
            "Test loss: 0.005023092031478882\n",
            "Loss: 0.0025885067880153656\n",
            "Test loss: 0.008447891101241112\n",
            "\n",
            "Epoch: 170 | Loss: 0.0025885067880153656 | Test Loss: 0.008447891101241112\n",
            "Loss: 0.008932482451200485\n",
            "Test loss: 0.005023092031478882\n",
            "Loss: 0.0025885067880153656\n",
            "Test loss: 0.008447891101241112\n",
            "Loss: 0.008932482451200485\n",
            "Test loss: 0.005023092031478882\n",
            "Loss: 0.0025885067880153656\n",
            "Test loss: 0.008447891101241112\n",
            "Loss: 0.008932482451200485\n",
            "Test loss: 0.005023092031478882\n",
            "Loss: 0.0025885067880153656\n",
            "Test loss: 0.008447891101241112\n",
            "Loss: 0.008932482451200485\n",
            "Test loss: 0.005023092031478882\n",
            "Loss: 0.0025885067880153656\n",
            "Test loss: 0.008447891101241112\n",
            "Loss: 0.008932482451200485\n",
            "Test loss: 0.005023092031478882\n",
            "Loss: 0.0025885067880153656\n",
            "Test loss: 0.008447891101241112\n",
            "\n",
            "Epoch: 180 | Loss: 0.0025885067880153656 | Test Loss: 0.008447891101241112\n",
            "Loss: 0.008932482451200485\n",
            "Test loss: 0.005023092031478882\n",
            "Loss: 0.0025885067880153656\n",
            "Test loss: 0.008447891101241112\n",
            "Loss: 0.008932482451200485\n",
            "Test loss: 0.005023092031478882\n",
            "Loss: 0.0025885067880153656\n",
            "Test loss: 0.008447891101241112\n",
            "Loss: 0.008932482451200485\n",
            "Test loss: 0.005023092031478882\n",
            "Loss: 0.0025885067880153656\n",
            "Test loss: 0.008447891101241112\n",
            "Loss: 0.008932482451200485\n",
            "Test loss: 0.005023092031478882\n",
            "Loss: 0.0025885067880153656\n",
            "Test loss: 0.008447891101241112\n",
            "Loss: 0.008932482451200485\n",
            "Test loss: 0.005023092031478882\n",
            "Loss: 0.0025885067880153656\n",
            "Test loss: 0.008447891101241112\n",
            "\n",
            "Epoch: 190 | Loss: 0.0025885067880153656 | Test Loss: 0.008447891101241112\n",
            "Loss: 0.008932482451200485\n",
            "Test loss: 0.005023092031478882\n",
            "Loss: 0.0025885067880153656\n",
            "Test loss: 0.008447891101241112\n",
            "Loss: 0.008932482451200485\n",
            "Test loss: 0.005023092031478882\n",
            "Loss: 0.0025885067880153656\n",
            "Test loss: 0.008447891101241112\n",
            "Loss: 0.008932482451200485\n",
            "Test loss: 0.005023092031478882\n",
            "Loss: 0.0025885067880153656\n",
            "Test loss: 0.008447891101241112\n",
            "Loss: 0.008932482451200485\n",
            "Test loss: 0.005023092031478882\n",
            "Loss: 0.0025885067880153656\n",
            "Test loss: 0.008447891101241112\n",
            "Loss: 0.008932482451200485\n",
            "Test loss: 0.005023092031478882\n"
          ]
        }
      ]
    },
    {
      "cell_type": "markdown",
      "source": [
        "## Now that we've run our model for 200 epochs, how close does it match up to our original weights and biases?\n",
        "\n",
        "after 100 epochs our weight = 0.6193\n",
        "bias = 0.3338"
      ],
      "metadata": {
        "id": "Fnt7yv2DCDKR"
      },
      "id": "Fnt7yv2DCDKR"
    },
    {
      "cell_type": "code",
      "source": [
        "weight, bias"
      ],
      "metadata": {
        "colab": {
          "base_uri": "https://localhost:8080/"
        },
        "id": "4eYBlHdTB2lS",
        "outputId": "11a0f2eb-f8c1-4056-a137-4cf7ec405ffc"
      },
      "id": "4eYBlHdTB2lS",
      "execution_count": 26,
      "outputs": [
        {
          "output_type": "execute_result",
          "data": {
            "text/plain": [
              "(0.7, 0.3)"
            ]
          },
          "metadata": {},
          "execution_count": 26
        }
      ]
    },
    {
      "cell_type": "code",
      "source": [
        "with torch.inference_mode():\n",
        "    y_preds_new = model_0(X_test)\n",
        "\n",
        "y_preds_new"
      ],
      "metadata": {
        "colab": {
          "base_uri": "https://localhost:8080/"
        },
        "id": "0F5QJtPfDADe",
        "outputId": "d975b8c8-b094-45d2-cdf8-b73b03efb865"
      },
      "id": "0F5QJtPfDADe",
      "execution_count": 27,
      "outputs": [
        {
          "output_type": "execute_result",
          "data": {
            "text/plain": [
              "tensor([[0.8554],\n",
              "        [0.8693],\n",
              "        [0.8832],\n",
              "        [0.8971],\n",
              "        [0.9110],\n",
              "        [0.9249],\n",
              "        [0.9388],\n",
              "        [0.9527],\n",
              "        [0.9666],\n",
              "        [0.9805]])"
            ]
          },
          "metadata": {},
          "execution_count": 27
        }
      ]
    },
    {
      "cell_type": "markdown",
      "source": [
        "### Now we see our predictions are extremely accurate"
      ],
      "metadata": {
        "id": "MYhjm404IFN5"
      },
      "id": "MYhjm404IFN5"
    },
    {
      "cell_type": "code",
      "source": [
        "plot_predictions(predictions=y_preds_new);"
      ],
      "metadata": {
        "colab": {
          "base_uri": "https://localhost:8080/",
          "height": 480
        },
        "id": "qKr7zMZaHWAP",
        "outputId": "3afeb714-fc54-4377-99d8-8e4c4feada95"
      },
      "id": "qKr7zMZaHWAP",
      "execution_count": 28,
      "outputs": [
        {
          "output_type": "display_data",
          "data": {
            "text/plain": [
              "<Figure size 1000x700 with 1 Axes>"
            ],
            "image/png": "[encoded data removed]"
          },
          "metadata": {}
        }
      ]
    },
    {
      "cell_type": "markdown",
      "source": [
        "### Plot loss curves\n",
        "**remember** we have our data in the form of torch tensors. To plot we need to turn them back into numpy arrays"
      ],
      "metadata": {
        "id": "4yniO1NaLdYu"
      },
      "id": "4yniO1NaLdYu"
    },
    {
      "cell_type": "code",
      "source": [
        "import numpy as np\n",
        "np.array(torch.tensor(loss_values).numpy()), test_loss_values"
      ],
      "metadata": {
        "colab": {
          "base_uri": "https://localhost:8080/"
        },
        "id": "YAjHOhmIMFe5",
        "outputId": "b19150bd-a591-4c86-945d-a00d63a2c907"
      },
      "id": "YAjHOhmIMFe5",
      "execution_count": 29,
      "outputs": [
        {
          "output_type": "execute_result",
          "data": {
            "text/plain": [
              "(array([0.30136034, 0.18615034, 0.08227583, 0.05181945, 0.04503796,\n",
              "        0.04132963, 0.03785244, 0.03441364, 0.03097964, 0.02754883,\n",
              "        0.02411001, 0.02067771, 0.0172452 , 0.0138064 , 0.01037578,\n",
              "        0.00694158, 0.00350277, 0.00258851, 0.00258851, 0.00258851],\n",
              "       dtype=float32),\n",
              " [tensor(0.4676),\n",
              "  tensor(0.3329),\n",
              "  tensor(0.2070),\n",
              "  tensor(0.1402),\n",
              "  tensor(0.1118),\n",
              "  tensor(0.0981),\n",
              "  tensor(0.0878),\n",
              "  tensor(0.0795),\n",
              "  tensor(0.0719),\n",
              "  tensor(0.0636),\n",
              "  tensor(0.0554),\n",
              "  tensor(0.0478),\n",
              "  tensor(0.0395),\n",
              "  tensor(0.0312),\n",
              "  tensor(0.0236),\n",
              "  tensor(0.0154),\n",
              "  tensor(0.0071),\n",
              "  tensor(0.0084),\n",
              "  tensor(0.0084),\n",
              "  tensor(0.0084)])"
            ]
          },
          "metadata": {},
          "execution_count": 29
        }
      ]
    },
    {
      "cell_type": "code",
      "source": [
        "plt.plot(epoch_count, np.array(torch.tensor(loss_values).numpy()), label='Training loss')\n",
        "plt.plot(epoch_count, test_loss_values, label='Test loss')\n",
        "plt.title('Training and Test Loss Curves')\n",
        "plt.xlabel('Epochs')\n",
        "plt.ylabel('Loss')\n",
        "plt.legend();"
      ],
      "metadata": {
        "colab": {
          "base_uri": "https://localhost:8080/",
          "height": 472
        },
        "id": "HixnTRE-H26j",
        "outputId": "c16402b6-7a89-4beb-f198-6e082ba35bef"
      },
      "id": "HixnTRE-H26j",
      "execution_count": 30,
      "outputs": [
        {
          "output_type": "display_data",
          "data": {
            "text/plain": [
              "<Figure size 640x480 with 1 Axes>"
            ],
            "image/png": "[encoded data removed]"
          },
          "metadata": {}
        }
      ]
    },
    {
      "cell_type": "markdown",
      "source": [
        "## Saving a model in PyTorch\n",
        "\n",
        "There are three main things to know about saving and loading models in PyTorch.\n",
        "\n",
        "1. `torch.save()` - allows you to save a PyTorch object in Python's 'Pickle' format\n",
        "2. `torch.load()` - allows you to load a saved PyTorch object\n",
        "3. `torch.nn.Module.load_state_dict()` - allows you to load a model's saved state dictionary.\n",
        "\n",
        "docs: https://pytorch.org/tutorials/beginner/saving_loading_models.html"
      ],
      "metadata": {
        "id": "hW45L8_zT3XH"
      },
      "id": "hW45L8_zT3XH"
    },
    {
      "cell_type": "code",
      "source": [
        "model_0.state_dict()"
      ],
      "metadata": {
        "colab": {
          "base_uri": "https://localhost:8080/"
        },
        "id": "1fPfBtFPMC7u",
        "outputId": "1604e980-a142-4539-f1ca-0f943e78f479"
      },
      "id": "1fPfBtFPMC7u",
      "execution_count": 31,
      "outputs": [
        {
          "output_type": "execute_result",
          "data": {
            "text/plain": [
              "OrderedDict([('weights', tensor([0.6951])), ('bias', tensor([0.2993]))])"
            ]
          },
          "metadata": {},
          "execution_count": 31
        }
      ]
    },
    {
      "cell_type": "code",
      "source": [
        "# Saving model_0\n",
        "from pathlib import Path\n",
        "\n",
        "#Create model directory\n",
        "MODEL_PATH = Path('models')\n",
        "MODEL_PATH.mkdir(parents=True, exist_ok=True) # if model already exists it won't throw error\n",
        "\n",
        "# Create model save path\n",
        "MODEL_NAME = '01_pytorch_workflow_model_0.pth'\n",
        "MODEL_SAVE_PATH = MODEL_PATH / MODEL_NAME\n",
        "\n",
        "MODEL_SAVE_PATH\n",
        "\n",
        "# Save the model state_dict()- saving model for inference\n",
        "print(f'Saving model to: {MODEL_SAVE_PATH}')\n",
        "torch.save(obj=model_0.state_dict(), f=MODEL_SAVE_PATH)"
      ],
      "metadata": {
        "colab": {
          "base_uri": "https://localhost:8080/"
        },
        "id": "uTtkhLUsVhXs",
        "outputId": "24c6ff93-d9d5-4066-f336-75bbbb29bff2"
      },
      "id": "uTtkhLUsVhXs",
      "execution_count": 32,
      "outputs": [
        {
          "output_type": "stream",
          "name": "stdout",
          "text": [
            "Saving model to: models/01_pytorch_workflow_model_0.pth\n"
          ]
        }
      ]
    },
    {
      "cell_type": "markdown",
      "source": [
        "### Loading a model\n",
        "\n",
        "since we saved our model's `state_dict()` rather than our entire model, we'll create a new instance of our model and load the `state_dict()` into that\n",
        "\n",
        "<u>*from docs:*</u>\n",
        "\n",
        "```\n",
        "model = TheModelClass(*args, **kwargs)\n",
        "model.load_state_dict(torch.load(PATH, weights_only=True))\n",
        "model.eval()\n",
        "```\n",
        "Also:\n",
        "\n",
        "`torch.load(f, map_location=None, pickle_module=pickle, *, weights_only=False, mmap=None, **pickle_load_args)`"
      ],
      "metadata": {
        "id": "H1WwJDfAh27T"
      },
      "id": "H1WwJDfAh27T"
    },
    {
      "cell_type": "code",
      "source": [
        "! ls -l models"
      ],
      "metadata": {
        "colab": {
          "base_uri": "https://localhost:8080/"
        },
        "id": "2b3ErDN0fkzC",
        "outputId": "ca4cfff3-9416-4571-ea06-a7cd4904726d"
      },
      "id": "2b3ErDN0fkzC",
      "execution_count": 33,
      "outputs": [
        {
          "output_type": "stream",
          "name": "stdout",
          "text": [
            "total 4\n",
            "-rw-r--r-- 1 root root 1680 Dec  4 00:26 01_pytorch_workflow_model_0.pth\n"
          ]
        }
      ]
    },
    {
      "cell_type": "code",
      "source": [
        "model_0.state_dict()"
      ],
      "metadata": {
        "colab": {
          "base_uri": "https://localhost:8080/"
        },
        "id": "RiJ_t3f3qb0P",
        "outputId": "735f443b-6001-4e85-d9a2-d08d1107035f"
      },
      "id": "RiJ_t3f3qb0P",
      "execution_count": 34,
      "outputs": [
        {
          "output_type": "execute_result",
          "data": {
            "text/plain": [
              "OrderedDict([('weights', tensor([0.6951])), ('bias', tensor([0.2993]))])"
            ]
          },
          "metadata": {},
          "execution_count": 34
        }
      ]
    },
    {
      "cell_type": "markdown",
      "source": [
        "#### To load in a saved `state_dict` we have to instantiate a new instance of our model class\n"
      ],
      "metadata": {
        "id": "CUOjXanMn4k7"
      },
      "id": "CUOjXanMn4k7"
    },
    {
      "cell_type": "code",
      "source": [
        "loaded_model_0 = LinearRegression()\n",
        "\n",
        "# Load the saved state_dict of model_0 (this will update the new instance with updated parameters)\n",
        "loaded_model_0.load_state_dict(torch.load(f=MODEL_SAVE_PATH))\n"
      ],
      "metadata": {
        "colab": {
          "base_uri": "https://localhost:8080/"
        },
        "id": "4oyDHE1pg-_O",
        "outputId": "76205c80-a9a2-4bfb-b1ad-8024fdc57d11"
      },
      "id": "4oyDHE1pg-_O",
      "execution_count": 35,
      "outputs": [
        {
          "output_type": "stream",
          "name": "stderr",
          "text": [
            "<ipython-input-35-86b298a3e296>:4: FutureWarning: You are using `torch.load` with `weights_only=False` (the current default value), which uses the default pickle module implicitly. It is possible to construct malicious pickle data which will execute arbitrary code during unpickling (See https://github.com/pytorch/pytorch/blob/main/SECURITY.md#untrusted-models for more details). In a future release, the default value for `weights_only` will be flipped to `True`. This limits the functions that could be executed during unpickling. Arbitrary objects will no longer be allowed to be loaded via this mode unless they are explicitly allowlisted by the user via `torch.serialization.add_safe_globals`. We recommend you start setting `weights_only=True` for any use case where you don't have full control of the loaded file. Please open an issue on GitHub for any issues related to this experimental feature.\n",
            "  loaded_model_0.load_state_dict(torch.load(f=MODEL_SAVE_PATH))\n"
          ]
        },
        {
          "output_type": "execute_result",
          "data": {
            "text/plain": [
              "<All keys matched successfully>"
            ]
          },
          "metadata": {},
          "execution_count": 35
        }
      ]
    },
    {
      "cell_type": "code",
      "source": [
        "loaded_model_0.state_dict()"
      ],
      "metadata": {
        "colab": {
          "base_uri": "https://localhost:8080/"
        },
        "id": "Rrts2onPoqeX",
        "outputId": "8caf53fb-2e1c-41de-9b1c-700e4c1fe4b7"
      },
      "id": "Rrts2onPoqeX",
      "execution_count": 36,
      "outputs": [
        {
          "output_type": "execute_result",
          "data": {
            "text/plain": [
              "OrderedDict([('weights', tensor([0.6951])), ('bias', tensor([0.2993]))])"
            ]
          },
          "metadata": {},
          "execution_count": 36
        }
      ]
    },
    {
      "cell_type": "markdown",
      "source": [
        "#### With this model loaded we could even make some predictions\n",
        "\n",
        "here we will employ:\n",
        "1. `eval()` mode\n",
        "2. `inference_mode()` to make the predictions"
      ],
      "metadata": {
        "id": "-MB-Z83drPyK"
      },
      "id": "-MB-Z83drPyK"
    },
    {
      "cell_type": "code",
      "source": [
        "loaded_model_0.eval()\n",
        "with torch.inference_mode():\n",
        "    loaded_model_preds = loaded_model_0(X_test)\n",
        "\n",
        "loaded_model_preds"
      ],
      "metadata": {
        "colab": {
          "base_uri": "https://localhost:8080/"
        },
        "id": "BUq5ObicqX5V",
        "outputId": "358f2b67-e840-4307-e84d-1147b0f3b1a2"
      },
      "id": "BUq5ObicqX5V",
      "execution_count": 37,
      "outputs": [
        {
          "output_type": "execute_result",
          "data": {
            "text/plain": [
              "tensor([[0.8554],\n",
              "        [0.8693],\n",
              "        [0.8832],\n",
              "        [0.8971],\n",
              "        [0.9110],\n",
              "        [0.9249],\n",
              "        [0.9388],\n",
              "        [0.9527],\n",
              "        [0.9666],\n",
              "        [0.9805]])"
            ]
          },
          "metadata": {},
          "execution_count": 37
        }
      ]
    },
    {
      "cell_type": "markdown",
      "source": [
        "#### Compare with our loaded model predictions"
      ],
      "metadata": {
        "id": "9Y6UtR0SsBD1"
      },
      "id": "9Y6UtR0SsBD1"
    },
    {
      "cell_type": "code",
      "source": [
        "y_preds == loaded_model_preds"
      ],
      "metadata": {
        "colab": {
          "base_uri": "https://localhost:8080/"
        },
        "id": "QXHWQiRkr9lU",
        "outputId": "418bab73-ead4-492b-ec48-18a234a06130"
      },
      "id": "QXHWQiRkr9lU",
      "execution_count": 38,
      "outputs": [
        {
          "output_type": "execute_result",
          "data": {
            "text/plain": [
              "tensor([[False],\n",
              "        [False],\n",
              "        [False],\n",
              "        [False],\n",
              "        [False],\n",
              "        [False],\n",
              "        [False],\n",
              "        [False],\n",
              "        [False],\n",
              "        [False]])"
            ]
          },
          "metadata": {},
          "execution_count": 38
        }
      ]
    },
    {
      "cell_type": "markdown",
      "source": [
        "**This is unexpected!**\n",
        "let's see what is going on"
      ],
      "metadata": {
        "id": "OgEj_U4HsY8I"
      },
      "id": "OgEj_U4HsY8I"
    },
    {
      "cell_type": "code",
      "source": [
        "# Make some predictions with our loaded model\n",
        "model_0.eval()\n",
        "with torch.inference_mode():\n",
        "    y_preds_new = model_0(X_test)\n",
        "\n",
        "y_preds_new"
      ],
      "metadata": {
        "colab": {
          "base_uri": "https://localhost:8080/"
        },
        "id": "vJZsLaR0sQEP",
        "outputId": "994162de-994f-4cc5-8f1e-b17cae3e6984"
      },
      "id": "vJZsLaR0sQEP",
      "execution_count": 39,
      "outputs": [
        {
          "output_type": "execute_result",
          "data": {
            "text/plain": [
              "tensor([[0.8554],\n",
              "        [0.8693],\n",
              "        [0.8832],\n",
              "        [0.8971],\n",
              "        [0.9110],\n",
              "        [0.9249],\n",
              "        [0.9388],\n",
              "        [0.9527],\n",
              "        [0.9666],\n",
              "        [0.9805]])"
            ]
          },
          "metadata": {},
          "execution_count": 39
        }
      ]
    },
    {
      "cell_type": "code",
      "source": [
        "y_preds_new == loaded_model_preds"
      ],
      "metadata": {
        "colab": {
          "base_uri": "https://localhost:8080/"
        },
        "id": "fxtqqliTsxpM",
        "outputId": "632a5720-d5f1-4bf6-f5d3-5b1cd87aae9f"
      },
      "id": "fxtqqliTsxpM",
      "execution_count": 40,
      "outputs": [
        {
          "output_type": "execute_result",
          "data": {
            "text/plain": [
              "tensor([[True],\n",
              "        [True],\n",
              "        [True],\n",
              "        [True],\n",
              "        [True],\n",
              "        [True],\n",
              "        [True],\n",
              "        [True],\n",
              "        [True],\n",
              "        [True]])"
            ]
          },
          "metadata": {},
          "execution_count": 40
        }
      ]
    },
    {
      "cell_type": "markdown",
      "source": [
        "*Groovy*"
      ],
      "metadata": {
        "id": "Po1-yPD3s8_k"
      },
      "id": "Po1-yPD3s8_k"
    },
    {
      "cell_type": "markdown",
      "source": [
        "### Let's go over what we have done\n",
        "\n",
        "go over steps above and see it all in one place"
      ],
      "metadata": {
        "id": "8MiFNZSgtWLR"
      },
      "id": "8MiFNZSgtWLR"
    },
    {
      "cell_type": "code",
      "source": [
        "import torch\n",
        "from torch import nn\n",
        "import matplotlib.pyplot as plt\n",
        "\n",
        "torch.__version__"
      ],
      "metadata": {
        "colab": {
          "base_uri": "https://localhost:8080/",
          "height": 35
        },
        "id": "Y8P3LN3Js7o1",
        "outputId": "7f082a7d-bf33-4504-c9e1-c8c40205d43b"
      },
      "id": "Y8P3LN3Js7o1",
      "execution_count": 41,
      "outputs": [
        {
          "output_type": "execute_result",
          "data": {
            "text/plain": [
              "'2.5.1+cu121'"
            ],
            "application/vnd.google.colaboratory.intrinsic+json": {
              "type": "string"
            }
          },
          "metadata": {},
          "execution_count": 41
        }
      ]
    },
    {
      "cell_type": "markdown",
      "source": [
        "Create device agnostic code- as we could take advantage of GPU's for accelerated computation - in this case I will turn on a GPU (T4) and we will see 'cuda', else we would see 'cpu'"
      ],
      "metadata": {
        "id": "Uw-1CAW0uSgA"
      },
      "id": "Uw-1CAW0uSgA"
    },
    {
      "cell_type": "code",
      "source": [
        "device = 'cuda' if torch.cuda.is_available() else 'cpu'\n",
        "device"
      ],
      "metadata": {
        "colab": {
          "base_uri": "https://localhost:8080/",
          "height": 35
        },
        "id": "q63DwAAguQdS",
        "outputId": "dd98d43b-3dab-477e-d479-f8b040645cf0"
      },
      "id": "q63DwAAguQdS",
      "execution_count": 42,
      "outputs": [
        {
          "output_type": "execute_result",
          "data": {
            "text/plain": [
              "'cuda'"
            ],
            "application/vnd.google.colaboratory.intrinsic+json": {
              "type": "string"
            }
          },
          "metadata": {},
          "execution_count": 42
        }
      ]
    },
    {
      "cell_type": "code",
      "source": [
        "! nvidia-smi"
      ],
      "metadata": {
        "colab": {
          "base_uri": "https://localhost:8080/"
        },
        "id": "ss8KNLjquggY",
        "outputId": "af6f65a8-4ef0-4fdc-ad61-9b335692a67e"
      },
      "id": "ss8KNLjquggY",
      "execution_count": 43,
      "outputs": [
        {
          "output_type": "stream",
          "name": "stdout",
          "text": [
            "Wed Dec  4 00:26:52 2024       \n",
            "+---------------------------------------------------------------------------------------+\n",
            "| NVIDIA-SMI 535.104.05             Driver Version: 535.104.05   CUDA Version: 12.2     |\n",
            "|-----------------------------------------+----------------------+----------------------+\n",
            "| GPU  Name                 Persistence-M | Bus-Id        Disp.A | Volatile Uncorr. ECC |\n",
            "| Fan  Temp   Perf          Pwr:Usage/Cap |         Memory-Usage | GPU-Util  Compute M. |\n",
            "|                                         |                      |               MIG M. |\n",
            "|=========================================+======================+======================|\n",
            "|   0  NVIDIA A100-SXM4-40GB          Off | 00000000:00:04.0 Off |                    0 |\n",
            "| N/A   31C    P0              46W / 400W |      5MiB / 40960MiB |      0%      Default |\n",
            "|                                         |                      |             Disabled |\n",
            "+-----------------------------------------+----------------------+----------------------+\n",
            "                                                                                         \n",
            "+---------------------------------------------------------------------------------------+\n",
            "| Processes:                                                                            |\n",
            "|  GPU   GI   CI        PID   Type   Process name                            GPU Memory |\n",
            "|        ID   ID                                                             Usage      |\n",
            "|=======================================================================================|\n",
            "|  No running processes found                                                           |\n",
            "+---------------------------------------------------------------------------------------+\n"
          ]
        }
      ]
    },
    {
      "cell_type": "markdown",
      "source": [
        "### Tesla T4 GPU Specifications\n",
        "\n",
        "| **Feature**                     | **Details**                                                                 |\n",
        "|----------------------------------|-----------------------------------------------------------------------------|\n",
        "| **Architecture**                | NVIDIA Turing                                                             |\n",
        "| **GPU Memory**                  | 16 GB GDDR6                                                               |\n",
        "| **CUDA Cores**                  | 2560                                                                      |\n",
        "| **Tensor Cores**                | 320                                                                       |\n",
        "| **GPU Memory Bandwidth**        | 320 GB/s                                                                  |\n",
        "| **Single-Precision (FP32)**     | 8.1 TFLOPS                                                                |\n",
        "| **Mixed-Precision (FP16/INT8)** | 65 TFLOPS (Tensor operations)                                             |\n",
        "| **INT4 Performance**            | 130 TOPS                                                                  |\n",
        "| **Power Consumption**           | 70W                                                                       |\n",
        "| **Form Factor**                 | Single-slot, low-profile PCIe                                             |\n",
        "| **Use Cases**                   | Inference, deep learning, video processing, and virtual desktop workloads |\n"
      ],
      "metadata": {
        "id": "yQD1AUSQv9LZ"
      },
      "id": "yQD1AUSQv9LZ"
    },
    {
      "cell_type": "markdown",
      "source": [
        "## Data"
      ],
      "metadata": {
        "id": "Uzui949nwscU"
      },
      "id": "Uzui949nwscU"
    },
    {
      "cell_type": "code",
      "source": [
        "# we'll just generate a line\n",
        "weight = 0.7\n",
        "bias = 0.3\n",
        "\n",
        "start = 0\n",
        "end = 1\n",
        "step = 0.02\n",
        "X = torch.arange(start, end, step).unsqueeze(dim=1) #without unsqueeze, errors will pop-up\n",
        "y = weight * X + bias\n",
        "X[:10], y[:10]"
      ],
      "metadata": {
        "colab": {
          "base_uri": "https://localhost:8080/"
        },
        "id": "46WLb1FhvTRA",
        "outputId": "69716d78-40ba-4021-d16d-7d73cd1201da"
      },
      "id": "46WLb1FhvTRA",
      "execution_count": 44,
      "outputs": [
        {
          "output_type": "execute_result",
          "data": {
            "text/plain": [
              "(tensor([[0.0000],\n",
              "         [0.0200],\n",
              "         [0.0400],\n",
              "         [0.0600],\n",
              "         [0.0800],\n",
              "         [0.1000],\n",
              "         [0.1200],\n",
              "         [0.1400],\n",
              "         [0.1600],\n",
              "         [0.1800]]),\n",
              " tensor([[0.3000],\n",
              "         [0.3140],\n",
              "         [0.3280],\n",
              "         [0.3420],\n",
              "         [0.3560],\n",
              "         [0.3700],\n",
              "         [0.3840],\n",
              "         [0.3980],\n",
              "         [0.4120],\n",
              "         [0.4260]]))"
            ]
          },
          "metadata": {},
          "execution_count": 44
        }
      ]
    },
    {
      "cell_type": "code",
      "source": [
        "# split data\n",
        "train_split = int(0.8 * len(X))\n",
        "X_train, y_train = X[:train_split], y[:train_split]\n",
        "X_test, y_test = X[train_split:], y[train_split:]\n",
        "len(X_train), len(y_train), len(X_test), len(y_test)"
      ],
      "metadata": {
        "colab": {
          "base_uri": "https://localhost:8080/"
        },
        "id": "KdDx2QCvxctN",
        "outputId": "254e23bf-4102-4435-8243-b815af630073"
      },
      "id": "KdDx2QCvxctN",
      "execution_count": 45,
      "outputs": [
        {
          "output_type": "execute_result",
          "data": {
            "text/plain": [
              "(40, 40, 10, 10)"
            ]
          },
          "metadata": {},
          "execution_count": 45
        }
      ]
    },
    {
      "cell_type": "code",
      "source": [
        "# plot the data\n",
        "plot_predictions(X_train, y_train, X_test, y_test)"
      ],
      "metadata": {
        "colab": {
          "base_uri": "https://localhost:8080/",
          "height": 480
        },
        "id": "Lrt57r_tx1Jg",
        "outputId": "2be936a7-96f4-4fbb-931a-ebfba32f2e65"
      },
      "id": "Lrt57r_tx1Jg",
      "execution_count": 46,
      "outputs": [
        {
          "output_type": "display_data",
          "data": {
            "text/plain": [
              "<Figure size 1000x700 with 1 Axes>"
            ],
            "image/png": "[encoded data removed]"
          },
          "metadata": {}
        }
      ]
    },
    {
      "cell_type": "markdown",
      "source": [
        "## Building a PyTorch Linear Model"
      ],
      "metadata": {
        "id": "4drprMnSyRNO"
      },
      "id": "4drprMnSyRNO"
    },
    {
      "cell_type": "code",
      "source": [
        "# Create a linear model by subclassing nn.Module\n",
        "class LinearRegressionModelV2(nn.Module):\n",
        "    def __init__(self):\n",
        "        super().__init__()\n",
        "        # Use nn.Linear() for creating model paramters\n",
        "        self.linear_layer = nn.Linear(in_features=1,\n",
        "                                      out_features=1)\n",
        "\n",
        "    def forward(self, x: torch.Tensor) -> torch.Tensor:\n",
        "        return self.linear_layer(x)\n",
        "\n",
        "torch.manual_seed(42)\n",
        "model_1 = LinearRegressionModelV2()\n",
        "model_1, model_1.state_dict()"
      ],
      "metadata": {
        "colab": {
          "base_uri": "https://localhost:8080/"
        },
        "id": "FPvdzM9Jx_ne",
        "outputId": "9c782eca-03c8-4fdc-da18-5cef5086d658"
      },
      "id": "FPvdzM9Jx_ne",
      "execution_count": 47,
      "outputs": [
        {
          "output_type": "execute_result",
          "data": {
            "text/plain": [
              "(LinearRegressionModelV2(\n",
              "   (linear_layer): Linear(in_features=1, out_features=1, bias=True)\n",
              " ),\n",
              " OrderedDict([('linear_layer.weight', tensor([[0.7645]])),\n",
              "              ('linear_layer.bias', tensor([0.8300]))]))"
            ]
          },
          "metadata": {},
          "execution_count": 47
        }
      ]
    },
    {
      "cell_type": "code",
      "source": [
        "X_train[:5], y_train[:5]"
      ],
      "metadata": {
        "colab": {
          "base_uri": "https://localhost:8080/"
        },
        "id": "usHgcwmhzMM2",
        "outputId": "74e61eb6-57e1-4719-c8c3-bf5074750e63"
      },
      "id": "usHgcwmhzMM2",
      "execution_count": 48,
      "outputs": [
        {
          "output_type": "execute_result",
          "data": {
            "text/plain": [
              "(tensor([[0.0000],\n",
              "         [0.0200],\n",
              "         [0.0400],\n",
              "         [0.0600],\n",
              "         [0.0800]]),\n",
              " tensor([[0.3000],\n",
              "         [0.3140],\n",
              "         [0.3280],\n",
              "         [0.3420],\n",
              "         [0.3560]]))"
            ]
          },
          "metadata": {},
          "execution_count": 48
        }
      ]
    },
    {
      "cell_type": "markdown",
      "source": [
        "device agnostoc code, will be cpu unless we use `to_device`"
      ],
      "metadata": {
        "id": "fBC0mtY71R47"
      },
      "id": "fBC0mtY71R47"
    },
    {
      "cell_type": "code",
      "source": [
        "next(model_1.parameters()).device"
      ],
      "metadata": {
        "colab": {
          "base_uri": "https://localhost:8080/"
        },
        "id": "x8piRuNZzQVi",
        "outputId": "9378b69b-313f-4496-a3ce-48966fa29c20"
      },
      "id": "x8piRuNZzQVi",
      "execution_count": 49,
      "outputs": [
        {
          "output_type": "execute_result",
          "data": {
            "text/plain": [
              "device(type='cpu')"
            ]
          },
          "metadata": {},
          "execution_count": 49
        }
      ]
    },
    {
      "cell_type": "code",
      "source": [
        "model_1.to(device)\n",
        "next(model_1.parameters()).device"
      ],
      "metadata": {
        "colab": {
          "base_uri": "https://localhost:8080/"
        },
        "id": "awnutKFF1JKr",
        "outputId": "dc80cbcf-7fb9-40e4-fb6a-7cc8ee9d6f8b"
      },
      "id": "awnutKFF1JKr",
      "execution_count": 50,
      "outputs": [
        {
          "output_type": "execute_result",
          "data": {
            "text/plain": [
              "device(type='cuda', index=0)"
            ]
          },
          "metadata": {},
          "execution_count": 50
        }
      ]
    },
    {
      "cell_type": "markdown",
      "source": [
        "### Training\n",
        "\n",
        "we need:\n",
        "* Loss function\n",
        "* Optimizer\n",
        "* Training loop\n",
        "* Testing loop"
      ],
      "metadata": {
        "id": "eDUqzNMn1qth"
      },
      "id": "eDUqzNMn1qth"
    },
    {
      "cell_type": "code",
      "source": [
        "loss_fn = nn.L1Loss() #MAE\n",
        "optimizer = torch.optim.SGD(params=model_1.parameters(), lr=0.01)"
      ],
      "metadata": {
        "id": "o0sbHgAa1QgZ"
      },
      "id": "o0sbHgAa1QgZ",
      "execution_count": 51,
      "outputs": []
    },
    {
      "cell_type": "code",
      "source": [
        "# Training loop\n",
        "\n",
        "torch.manual_seed(42)\n",
        "epochs = 300\n",
        "\n",
        "# Put data on target device\n",
        "X_train = X_train.to(device)\n",
        "y_train = y_train.to(device)\n",
        "X_test = X_test.to(device)\n",
        "y_test = y_test.to(device)\n",
        "\n",
        "for epoch in range(epochs):\n",
        "    model_1.train()\n",
        "    # Forward pass\n",
        "    y_pred = model_1(X_train)\n",
        "    # calculate loss\n",
        "    loss = loss_fn(y_pred, y_train)\n",
        "    # Optimizer zero grad\n",
        "    optimizer.zero_grad()\n",
        "    # Loss backward\n",
        "    loss.backward()\n",
        "    # Optimizer step\n",
        "    optimizer.step()\n",
        "    # Testing\n",
        "    model_1.eval()\n",
        "    with torch.inference_mode():\n",
        "        test_pred = model_1(X_test)\n",
        "        test_loss = loss_fn(test_pred, y_test)\n",
        "\n",
        "# Print out what is happening\n",
        "    if epoch % 10 == 0:\n",
        "        print(f'\\nEpoch: {epoch} | Loss: {loss} | Test Loss: {test_loss}')\n"
      ],
      "metadata": {
        "colab": {
          "base_uri": "https://localhost:8080/"
        },
        "id": "XJM4RZve2O-d",
        "outputId": "46a8810c-d65f-4b3e-c8fb-4a87446cb79d"
      },
      "id": "XJM4RZve2O-d",
      "execution_count": 52,
      "outputs": [
        {
          "output_type": "stream",
          "name": "stdout",
          "text": [
            "\n",
            "Epoch: 0 | Loss: 0.5551779866218567 | Test Loss: 0.5739762187004089\n",
            "\n",
            "Epoch: 10 | Loss: 0.439968079328537 | Test Loss: 0.4392664134502411\n",
            "\n",
            "Epoch: 20 | Loss: 0.3247582018375397 | Test Loss: 0.30455657839775085\n",
            "\n",
            "Epoch: 30 | Loss: 0.20954833924770355 | Test Loss: 0.16984669864177704\n",
            "\n",
            "Epoch: 40 | Loss: 0.09433845430612564 | Test Loss: 0.03513690456748009\n",
            "\n",
            "Epoch: 50 | Loss: 0.023886388167738914 | Test Loss: 0.04784907028079033\n",
            "\n",
            "Epoch: 60 | Loss: 0.019956795498728752 | Test Loss: 0.045803118497133255\n",
            "\n",
            "Epoch: 70 | Loss: 0.016517987474799156 | Test Loss: 0.037530567497015\n",
            "\n",
            "Epoch: 80 | Loss: 0.013089174404740334 | Test Loss: 0.02994490973651409\n",
            "\n",
            "Epoch: 90 | Loss: 0.009653178043663502 | Test Loss: 0.02167237363755703\n",
            "\n",
            "Epoch: 100 | Loss: 0.006215683650225401 | Test Loss: 0.014086711220443249\n",
            "\n",
            "Epoch: 110 | Loss: 0.00278724217787385 | Test Loss: 0.005814164876937866\n",
            "\n",
            "Epoch: 120 | Loss: 0.0012645035749301314 | Test Loss: 0.013801801018416882\n",
            "\n",
            "Epoch: 130 | Loss: 0.0012645035749301314 | Test Loss: 0.013801801018416882\n",
            "\n",
            "Epoch: 140 | Loss: 0.0012645035749301314 | Test Loss: 0.013801801018416882\n",
            "\n",
            "Epoch: 150 | Loss: 0.0012645035749301314 | Test Loss: 0.013801801018416882\n",
            "\n",
            "Epoch: 160 | Loss: 0.0012645035749301314 | Test Loss: 0.013801801018416882\n",
            "\n",
            "Epoch: 170 | Loss: 0.0012645035749301314 | Test Loss: 0.013801801018416882\n",
            "\n",
            "Epoch: 180 | Loss: 0.0012645035749301314 | Test Loss: 0.013801801018416882\n",
            "\n",
            "Epoch: 190 | Loss: 0.0012645035749301314 | Test Loss: 0.013801801018416882\n",
            "\n",
            "Epoch: 200 | Loss: 0.0012645035749301314 | Test Loss: 0.013801801018416882\n",
            "\n",
            "Epoch: 210 | Loss: 0.0012645035749301314 | Test Loss: 0.013801801018416882\n",
            "\n",
            "Epoch: 220 | Loss: 0.0012645035749301314 | Test Loss: 0.013801801018416882\n",
            "\n",
            "Epoch: 230 | Loss: 0.0012645035749301314 | Test Loss: 0.013801801018416882\n",
            "\n",
            "Epoch: 240 | Loss: 0.0012645035749301314 | Test Loss: 0.013801801018416882\n",
            "\n",
            "Epoch: 250 | Loss: 0.0012645035749301314 | Test Loss: 0.013801801018416882\n",
            "\n",
            "Epoch: 260 | Loss: 0.0012645035749301314 | Test Loss: 0.013801801018416882\n",
            "\n",
            "Epoch: 270 | Loss: 0.0012645035749301314 | Test Loss: 0.013801801018416882\n",
            "\n",
            "Epoch: 280 | Loss: 0.0012645035749301314 | Test Loss: 0.013801801018416882\n",
            "\n",
            "Epoch: 290 | Loss: 0.0012645035749301314 | Test Loss: 0.013801801018416882\n"
          ]
        }
      ]
    },
    {
      "cell_type": "code",
      "source": [
        "model_1.state_dict()"
      ],
      "metadata": {
        "colab": {
          "base_uri": "https://localhost:8080/"
        },
        "id": "bMxJORC63SLU",
        "outputId": "2f0e2742-18cc-41bd-87fb-963456bc3bd6"
      },
      "id": "bMxJORC63SLU",
      "execution_count": 53,
      "outputs": [
        {
          "output_type": "execute_result",
          "data": {
            "text/plain": [
              "OrderedDict([('linear_layer.weight', tensor([[0.6968]], device='cuda:0')),\n",
              "             ('linear_layer.bias', tensor([0.3025], device='cuda:0'))])"
            ]
          },
          "metadata": {},
          "execution_count": 53
        }
      ]
    },
    {
      "cell_type": "code",
      "source": [
        "weight, bias"
      ],
      "metadata": {
        "colab": {
          "base_uri": "https://localhost:8080/"
        },
        "id": "66worBUJ4JLr",
        "outputId": "56d4006e-7572-4a08-ff05-eb6f4b673ef5"
      },
      "id": "66worBUJ4JLr",
      "execution_count": 54,
      "outputs": [
        {
          "output_type": "execute_result",
          "data": {
            "text/plain": [
              "(0.7, 0.3)"
            ]
          },
          "metadata": {},
          "execution_count": 54
        }
      ]
    },
    {
      "cell_type": "markdown",
      "source": [
        "## Making and evaluating predictions"
      ],
      "metadata": {
        "id": "E1cbJU9KAB32"
      },
      "id": "E1cbJU9KAB32"
    },
    {
      "cell_type": "code",
      "source": [
        "# Put model into evaluation mode\n",
        "model_1.eval()\n",
        "\n",
        "# Make Predictions on the test data\n",
        "with torch.inference_mode():\n",
        "    y_pred = model_1(X_test)\n",
        "\n",
        "y_pred"
      ],
      "metadata": {
        "colab": {
          "base_uri": "https://localhost:8080/"
        },
        "id": "NbwU6spm4VJv",
        "outputId": "18fcdd0f-3406-4480-9483-aa84b09ede6b"
      },
      "id": "NbwU6spm4VJv",
      "execution_count": 55,
      "outputs": [
        {
          "output_type": "execute_result",
          "data": {
            "text/plain": [
              "tensor([[0.8600],\n",
              "        [0.8739],\n",
              "        [0.8878],\n",
              "        [0.9018],\n",
              "        [0.9157],\n",
              "        [0.9296],\n",
              "        [0.9436],\n",
              "        [0.9575],\n",
              "        [0.9714],\n",
              "        [0.9854]], device='cuda:0')"
            ]
          },
          "metadata": {},
          "execution_count": 55
        }
      ]
    },
    {
      "cell_type": "markdown",
      "source": [
        "**Remember Matplotlib works with NumPy**"
      ],
      "metadata": {
        "id": "TWWS2yTgAs4a"
      },
      "id": "TWWS2yTgAs4a"
    },
    {
      "cell_type": "code",
      "source": [
        "plot_predictions(predictions=y_pred.cpu())"
      ],
      "metadata": {
        "colab": {
          "base_uri": "https://localhost:8080/",
          "height": 480
        },
        "id": "kv4LBCssAmYr",
        "outputId": "062f0886-c31c-4a84-abc1-3a9db8b4a7e5"
      },
      "id": "kv4LBCssAmYr",
      "execution_count": 56,
      "outputs": [
        {
          "output_type": "display_data",
          "data": {
            "text/plain": [
              "<Figure size 1000x700 with 1 Axes>"
            ],
            "image/png": "[encoded data removed]"
          },
          "metadata": {}
        }
      ]
    },
    {
      "cell_type": "markdown",
      "source": [
        "#### Perfect result!!!!!"
      ],
      "metadata": {
        "id": "UQL1iiMqEHYO"
      },
      "id": "UQL1iiMqEHYO"
    },
    {
      "cell_type": "markdown",
      "source": [
        "## Saving and Loading A Trained model"
      ],
      "metadata": {
        "id": "N8el1A7qERfu"
      },
      "id": "N8el1A7qERfu"
    },
    {
      "cell_type": "code",
      "source": [
        "# Saving model_0\n",
        "from pathlib import Path\n",
        "\n",
        "#Create model directory\n",
        "MODEL_PATH = Path('models')\n",
        "MODEL_PATH.mkdir(parents=True, exist_ok=True) # if model already exists it won't throw error\n",
        "\n",
        "# Create model save path\n",
        "MODEL_NAME = '01_pytorch_workflow_model_1.pth'\n",
        "MODEL_SAVE_PATH = MODEL_PATH / MODEL_NAME\n",
        "\n",
        "MODEL_SAVE_PATH\n",
        "\n",
        "# Save the model state_dict()- saving model for inference\n",
        "print(f'Saving model to: {MODEL_SAVE_PATH}')\n",
        "torch.save(obj=model_1.state_dict(), f=MODEL_SAVE_PATH)"
      ],
      "metadata": {
        "colab": {
          "base_uri": "https://localhost:8080/"
        },
        "id": "0dHW1SwbBKo1",
        "outputId": "2fc022d4-a2e4-4ebc-b487-f4309ab635df"
      },
      "id": "0dHW1SwbBKo1",
      "execution_count": 57,
      "outputs": [
        {
          "output_type": "stream",
          "name": "stdout",
          "text": [
            "Saving model to: models/01_pytorch_workflow_model_1.pth\n"
          ]
        }
      ]
    },
    {
      "cell_type": "code",
      "source": [
        "model_1.state_dict()"
      ],
      "metadata": {
        "colab": {
          "base_uri": "https://localhost:8080/"
        },
        "id": "bYiK5CqjGd9U",
        "outputId": "e7cefec0-c578-44dc-8df7-74022c145aa1"
      },
      "id": "bYiK5CqjGd9U",
      "execution_count": 60,
      "outputs": [
        {
          "output_type": "execute_result",
          "data": {
            "text/plain": [
              "OrderedDict([('linear_layer.weight', tensor([[0.6968]], device='cuda:0')),\n",
              "             ('linear_layer.bias', tensor([0.3025], device='cuda:0'))])"
            ]
          },
          "metadata": {},
          "execution_count": 60
        }
      ]
    },
    {
      "cell_type": "markdown",
      "source": [
        "### Load model_1"
      ],
      "metadata": {
        "id": "oFo73DiaGtr1"
      },
      "id": "oFo73DiaGtr1"
    },
    {
      "cell_type": "code",
      "source": [
        "loaded_model_1 = LinearRegressionModelV2()\n",
        "\n",
        "# Load the saved state_dict of model_1 (this will update the new instance with updated parameters)\n",
        "loaded_model_1.load_state_dict(torch.load(f=MODEL_SAVE_PATH))\n",
        "\n",
        "# Put the loaded model to device\n",
        "loaded_model_1.to(device)\n"
      ],
      "metadata": {
        "colab": {
          "base_uri": "https://localhost:8080/"
        },
        "id": "AQjxYyTZEzbi",
        "outputId": "175f0f57-3fe2-47c5-fe95-b8250aa59e4c"
      },
      "id": "AQjxYyTZEzbi",
      "execution_count": 61,
      "outputs": [
        {
          "output_type": "stream",
          "name": "stderr",
          "text": [
            "<ipython-input-61-1fcecca16bc3>:4: FutureWarning: You are using `torch.load` with `weights_only=False` (the current default value), which uses the default pickle module implicitly. It is possible to construct malicious pickle data which will execute arbitrary code during unpickling (See https://github.com/pytorch/pytorch/blob/main/SECURITY.md#untrusted-models for more details). In a future release, the default value for `weights_only` will be flipped to `True`. This limits the functions that could be executed during unpickling. Arbitrary objects will no longer be allowed to be loaded via this mode unless they are explicitly allowlisted by the user via `torch.serialization.add_safe_globals`. We recommend you start setting `weights_only=True` for any use case where you don't have full control of the loaded file. Please open an issue on GitHub for any issues related to this experimental feature.\n",
            "  loaded_model_1.load_state_dict(torch.load(f=MODEL_SAVE_PATH))\n"
          ]
        },
        {
          "output_type": "execute_result",
          "data": {
            "text/plain": [
              "LinearRegressionModelV2(\n",
              "  (linear_layer): Linear(in_features=1, out_features=1, bias=True)\n",
              ")"
            ]
          },
          "metadata": {},
          "execution_count": 61
        }
      ]
    },
    {
      "cell_type": "code",
      "source": [
        "from google.colab import drive\n",
        "drive.mount('/content/drive')"
      ],
      "metadata": {
        "colab": {
          "base_uri": "https://localhost:8080/"
        },
        "id": "p3Abu68uIhZO",
        "outputId": "14ae57a9-e720-4c8d-a193-7574102621b7"
      },
      "id": "p3Abu68uIhZO",
      "execution_count": 62,
      "outputs": [
        {
          "output_type": "stream",
          "name": "stdout",
          "text": [
            "Mounted at /content/drive\n"
          ]
        }
      ]
    },
    {
      "cell_type": "code",
      "source": [],
      "metadata": {
        "id": "vKAX0dB9Ftks"
      },
      "id": "vKAX0dB9Ftks",
      "execution_count": null,
      "outputs": []
    }
  ],
  "metadata": {
    "kernelspec": {
      "display_name": "Python 3",
      "name": "python3"
    },
    "language_info": {
      "codemirror_mode": {
        "name": "ipython",
        "version": 2
      },
      "file_extension": ".py",
      "mimetype": "text/x-python",
      "name": "python",
      "nbconvert_exporter": "python",
      "pygments_lexer": "ipython2",
      "version": "2.7.6"
    },
    "colab": {
      "provenance": [],
      "machine_shape": "hm",
      "gpuType": "A100",
      "include_colab_link": true
    },
    "accelerator": "GPU"
  },
  "nbformat": 4,
  "nbformat_minor": 5
}